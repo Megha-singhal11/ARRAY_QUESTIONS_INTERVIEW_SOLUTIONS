{
 "cells": [
  {
   "cell_type": "markdown",
   "id": "6f6942ac",
   "metadata": {},
   "source": [
    "### **Q.1.** **Merge Intervals**  Given an array of `intervals` where `intervals[i] = [starti, endi]`, merge all overlapping intervals, and return *an array of the non-overlapping intervals that cover all the intervals in the input*.\n",
    "\n",
    "**Example 1:**\n",
    "\n",
    "```\n",
    "Input: intervals = [[1,3],[2,6],[8,10],[15,18]]\n",
    "Output: [[1,6],[8,10],[15,18]]\n",
    "Explanation: Since intervals [1,3] and [2,6] overlap, merge them into [1,6].\n",
    "\n",
    "```\n",
    "\n",
    "**Example 2:**\n",
    "\n",
    "```\n",
    "Input: intervals = [[1,4],[4,5]]\n",
    "Output: [[1,5]]\n",
    "Explanation: Intervals [1,4] and [4,5] are considered overlapping.\n",
    "\n",
    "```\n",
    "\n",
    "**Constraints:**\n",
    "\n",
    "- `1 <= intervals.length <= 10000`\n",
    "- `intervals[i].length == 2`\n",
    "- `0 <= starti <= endi <= 10000`"
   ]
  },
  {
   "cell_type": "markdown",
   "id": "773ef691",
   "metadata": {},
   "source": [
    "### Algorithm:\n",
    "1. Sort the intervals: The code starts by sorting the intervals based on the start time of each interval. This step has a time complexity of O(n log n), where n is the number of intervals, due to the use of the Python sort method.\n",
    "2. Merge the intervals: The code then iterates through the sorted intervals and checks if each interval can be merged with the last interval in the merged list. If they overlap, the code updates the end time of the last interval in the merged list to include the end time of the current interval. If they don't overlap, the current interval is added to the merged list. This step has a time complexity of O(n), as it iterates through each interval once.\n",
    "3. Return the merged intervals: Finally, the merged list is returned as the result."
   ]
  },
  {
   "cell_type": "code",
   "execution_count": 1,
   "id": "92ca9046",
   "metadata": {},
   "outputs": [
    {
     "name": "stdout",
     "output_type": "stream",
     "text": [
      "[[1, 6], [8, 10], [15, 18]]\n"
     ]
    }
   ],
   "source": [
    "def merge_intervals(intervals):\n",
    "    intervals.sort(key=lambda x: x[0])\n",
    "    merged = []\n",
    "    for interval in intervals:\n",
    "        if not merged or merged[-1][1] < interval[0]:\n",
    "            merged.append(interval)\n",
    "        else:\n",
    "            merged[-1][1] = max(merged[-1][1], interval[1])\n",
    "    return merged\n",
    "\n",
    "intervals = [[1,3],[2,6],[8,10],[15,18]]\n",
    "result = merge_intervals(intervals)\n",
    "print(result)"
   ]
  },
  {
   "cell_type": "markdown",
   "id": "0c54b707",
   "metadata": {},
   "source": [
    "### Complexity:\n",
    "     Time Complexity: The overall time complexity of the merge_intervals function is O(n log n) because of the initial sorting step, where n is the number of intervals. The subsequent merging step has a linear time complexity of O(n). Since sorting dominates the overall time complexity, the function's time complexity is O(n log n).\n",
    "\n",
    "     Space Complexity: The space complexity of the merge_intervals function is O(n) because the merged list may store up to n intervals if there are no overlaps. Additionally, the sorting step requires some extra space, but it doesn't affect the overall complexity. Therefore, the function's space complexity is O(n)."
   ]
  },
  {
   "cell_type": "markdown",
   "id": "5bf0f972",
   "metadata": {},
   "source": [
    "### **Q.2.** **Sort Colors**  Given an array `nums` with `n` objects colored red, white, or blue, sort them **[in-place](https://en.wikipedia.org/wiki/In-place_algorithm)** so that objects of the same color are adjacent, with the colors in the order red, white, and blue.\n",
    "\n",
    "We will use the integers `0`, `1`, and `2` to represent the color red, white, and blue, respectively.\n",
    "\n",
    "You must solve this problem without using the library's sort function.\n",
    "\n",
    "**Example 1:**\n",
    "\n",
    "```\n",
    "Input: nums = [2,0,2,1,1,0]\n",
    "Output: [0,0,1,1,2,2]\n",
    "\n",
    "```\n",
    "\n",
    "**Example 2:**\n",
    "\n",
    "```\n",
    "Input: nums = [2,0,1]\n",
    "Output: [0,1,2]\n",
    "\n",
    "```\n",
    "\n",
    "**Constraints:**\n",
    "\n",
    "- `n == nums.length`\n",
    "- `1 <= n <= 300`\n",
    "- `nums[i]` is either `0`, `1`, or `2`."
   ]
  },
  {
   "cell_type": "code",
   "execution_count": 2,
   "id": "039b27e2",
   "metadata": {},
   "outputs": [
    {
     "name": "stdout",
     "output_type": "stream",
     "text": [
      "[0, 0, 1, 1, 2, 2]\n"
     ]
    }
   ],
   "source": [
    "def sort_colors(nums):\n",
    "    red, white, blue = 0, 0, len(nums)-1\n",
    "    while white <= blue:\n",
    "        if nums[white] == 0:\n",
    "            nums[red], nums[white] = nums[white], nums[red]\n",
    "            white += 1\n",
    "            red += 1\n",
    "        elif nums[white] == 1:\n",
    "            white += 1\n",
    "        else:\n",
    "            nums[white], nums[blue] = nums[blue], nums[white]\n",
    "            blue -= 1\n",
    "\n",
    "nums = [2,0,2,1,1,0]\n",
    "sort_colors(nums)\n",
    "print(nums)"
   ]
  },
  {
   "cell_type": "markdown",
   "id": "95ca3a4d",
   "metadata": {},
   "source": [
    "### Complexity:\n",
    "The time complexity of this algorithm is O(n), where n is the length of the nums array, because it performs a single pass through the array.\n",
    "\n",
    "The space complexity of this algorithm is O(1) because it only uses a constant amount of extra space to store the three pointers (red, white, and blue), regardless of the size of the input array."
   ]
  },
  {
   "cell_type": "markdown",
   "id": "fb93270c",
   "metadata": {},
   "source": [
    "### **Q.3.** **First Bad Version Solution**  You are a product manager and currently leading a team to develop a new product. Unfortunately, the latest version of your product fails the quality check. Since each version is developed based on the previous version, all the versions after a bad version are also bad.\n",
    "\n",
    "Suppose you have `n` versions `[1, 2, ..., n]` and you want to find out the first bad one, which causes all the following ones to be bad.\n",
    "\n",
    "You are given an API `bool isBadVersion(version)` which returns whether `version` is bad. Implement a function to find the first bad version. You should minimize the number of calls to the API.\n",
    "\n",
    "**Example 1:**\n",
    "\n",
    "```\n",
    "Input: n = 5, bad = 4\n",
    "Output: 4\n",
    "Explanation:\n",
    "call isBadVersion(3) -> false\n",
    "call isBadVersion(5) -> true\n",
    "call isBadVersion(4) -> true\n",
    "Then 4 is the first bad version.\n",
    "\n",
    "```\n",
    "\n",
    "**Example 2:**\n",
    "\n",
    "```\n",
    "Input: n = 1, bad = 1\n",
    "Output: 1\n",
    "\n",
    "```\n",
    "\n",
    "**Constraints:**\n",
    "\n",
    "- `1 <= bad <= n <= 2^31 - 1`"
   ]
  },
  {
   "cell_type": "markdown",
   "id": "7dcea88f",
   "metadata": {},
   "source": [
    "### EXPLANATION:\n",
    "The code also defines a function isBadVersion(version) that checks if a given version is bad. In this case, a version is considered bad if it is greater than or equal to the value of the variable bad."
   ]
  },
  {
   "cell_type": "code",
   "execution_count": 3,
   "id": "6e50fb43",
   "metadata": {},
   "outputs": [
    {
     "name": "stdout",
     "output_type": "stream",
     "text": [
      "4\n"
     ]
    }
   ],
   "source": [
    "def first_bad_version(n, isBadVersion):\n",
    "    left, right = 1, n\n",
    "    while left < right:\n",
    "        mid = left + (right - left) // 2\n",
    "        if isBadVersion(mid):\n",
    "            right = mid\n",
    "        else:\n",
    "            left = mid + 1\n",
    "    return left\n",
    "\n",
    "n = 5\n",
    "bad = 4\n",
    "\n",
    "def isBadVersion(version):\n",
    "    return version >= bad\n",
    "\n",
    "result = first_bad_version(n, isBadVersion)\n",
    "print(result)\n",
    "\n",
    "\n",
    "### This means that the first bad version in the range of 1 to 5 is version 4."
   ]
  },
  {
   "cell_type": "markdown",
   "id": "988392b4",
   "metadata": {},
   "source": [
    "### Complexity:\n",
    "The time complexity of this algorithm is O(log n), where n is the range of versions (n in this case). This is because each iteration of the binary search loop reduces the search range by half.\n",
    "\n",
    "The space complexity of this algorithm is O(1) because it uses a constant amount of extra space regardless of the input size."
   ]
  },
  {
   "cell_type": "markdown",
   "id": "c85fc2d2",
   "metadata": {},
   "source": [
    "### **Q.4.** **Maximum Gap**  Given an integer array `nums`, return *the maximum difference between two successive elements in its sorted form*. If the array contains less than two elements, return `0`.\n",
    "\n",
    "You must write an algorithm that runs in linear time and uses linear extra space.\n",
    "\n",
    "**Example 1:**\n",
    "\n",
    "```\n",
    "Input: nums = [3,6,9,1]\n",
    "Output: 3\n",
    "Explanation: The sorted form of the array is [1,3,6,9], either (3,6) or (6,9) has the maximum difference 3.\n",
    "\n",
    "```\n",
    "\n",
    "**Example 2:**\n",
    "\n",
    "```\n",
    "Input: nums = [10]\n",
    "Output: 0\n",
    "Explanation: The array contains less than 2 elements, therefore return 0.\n",
    "\n",
    "```\n",
    "\n",
    "**Constraints:**\n",
    "\n",
    "- `1 <= nums.length <= 10^5`\n",
    "- `0 <= nums[i] <= 10^9`"
   ]
  },
  {
   "cell_type": "code",
   "execution_count": 4,
   "id": "87291006",
   "metadata": {},
   "outputs": [
    {
     "name": "stdout",
     "output_type": "stream",
     "text": [
      "3\n"
     ]
    }
   ],
   "source": [
    "def maximum_gap(nums):\n",
    "    if len(nums) < 2:\n",
    "        return 0\n",
    "    min_val, max_val = min(nums), max(nums)\n",
    "    if min_val == max_val:\n",
    "        return 0\n",
    "    min_bucket = [float('inf')] * (len(nums) - 1)\n",
    "    max_bucket = [float('-inf')] * (len(nums) - 1)\n",
    "    interval = (max_val - min_val) / (len(nums) - 1)\n",
    "    for num in nums:\n",
    "        if num == max_val:\n",
    "            index = len(nums) - 2\n",
    "        else:\n",
    "            index = int((num - min_val) / interval)\n",
    "        min_bucket[index] = min(min_bucket[index], num)\n",
    "        max_bucket[index] = max(max_bucket[index], num)\n",
    "    max_gap = 0\n",
    "    prev_max = max_bucket[0]\n",
    "    for i in range(1, len(nums) - 1):\n",
    "        if min_bucket[i] != float('inf'):\n",
    "            max_gap = max(max_gap, min_bucket[i] - prev_max)\n",
    "            prev_max = max_bucket[i]\n",
    "    max_gap = max(max_gap, max_val - prev_max)\n",
    "    return max_gap\n",
    "\n",
    "nums = [3,6,9,1]\n",
    "result = maximum_gap(nums)\n",
    "print(result)"
   ]
  },
  {
   "cell_type": "markdown",
   "id": "11fe50f4",
   "metadata": {},
   "source": [
    "### Complexity:\n",
    "The time complexity of this algorithm is O(d * (n + b)), where d is the number of digits in the maximum number max_num, n is the number of elements in nums, and b is the base of the number system (in this case, 10 for decimal numbers). Since we assume max_num has a constant number of digits, **the time complexity simplifies to O(n).**\n",
    "\n",
    "The space complexity of this algorithm is O(n) because it uses **additional space** to store the buckets during sorting. However, it satisfies the linear extra space requirement."
   ]
  },
  {
   "cell_type": "markdown",
   "id": "7ca9a49a",
   "metadata": {},
   "source": [
    "### **Q.5.** **Contains Duplicate**  Given an integer array `nums`, return `true` if any value appears **at least twice** in the array, and return `false` if every element is distinct.\n",
    "\n",
    "**Example 1:**\n",
    "\n",
    "```\n",
    "Input: nums = [1,2,3,1]\n",
    "Output: true\n",
    "\n",
    "```\n",
    "\n",
    "**Example 2:**\n",
    "\n",
    "```\n",
    "Input: nums = [1,2,3,4]\n",
    "Output: false\n",
    "\n",
    "```\n",
    "\n",
    "**Example 3:**\n",
    "\n",
    "```\n",
    "Input: nums = [1,1,1,3,3,4,3,2,4,2]\n",
    "Output: true\n",
    "\n",
    "```\n",
    "\n",
    "**Constraints:**\n",
    "\n",
    "- `1 <= nums.length <= 10^5`\n",
    "- `109 <= nums[i] <= 10^9`"
   ]
  },
  {
   "cell_type": "code",
   "execution_count": 5,
   "id": "19913ba6",
   "metadata": {},
   "outputs": [
    {
     "name": "stdout",
     "output_type": "stream",
     "text": [
      "False\n"
     ]
    }
   ],
   "source": [
    "def contains_duplicate(nums):\n",
    "    return len(nums) != len(set(nums))\n",
    "\n",
    "nums = [1,2,3,4]\n",
    "result = contains_duplicate(nums)\n",
    "print(result)"
   ]
  },
  {
   "cell_type": "markdown",
   "id": "7d0c7101",
   "metadata": {},
   "source": [
    "### **Q.6.** **Minimum Number of Arrows to Burst Balloons**\n",
    "\n",
    "There are some spherical balloons taped onto a flat wall that represents the XY-plane. The balloons are represented as a 2D integer array `points` where `points[i] = [xstart, xend]` denotes a balloon whose **horizontal diameter** stretches between `xstart` and `xend`. You do not know the exact y-coordinates of the balloons.\n",
    "\n",
    "Arrows can be shot up **directly vertically** (in the positive y-direction) from different points along the x-axis. A balloon with `xstart` and `xend` is **burst** by an arrow shot at `x` if `xstart <= x <= xend`. There is **no limit** to the number of arrows that can be shot. A shot arrow keeps traveling up infinitely, bursting any balloons in its path.\n",
    "\n",
    "Given the array `points`, return *the **minimum** number of arrows that must be shot to burst all balloons*.\n",
    "\n",
    "**Example 1:**\n",
    "\n",
    "```\n",
    "Input: points = [[10,16],[2,8],[1,6],[7,12]]\n",
    "Output: 2\n",
    "Explanation: The balloons can be burst by 2 arrows:\n",
    "- Shoot an arrow at x = 6, bursting the balloons [2,8] and [1,6].\n",
    "- Shoot an arrow at x = 11, bursting the balloons [10,16] and [7,12].\n",
    "\n",
    "```\n",
    "\n",
    "**Example 2:**\n",
    "\n",
    "```\n",
    "Input: points = [[1,2],[3,4],[5,6],[7,8]]\n",
    "Output: 4\n",
    "Explanation: One arrow needs to be shot for each balloon for a total of 4 arrows.\n",
    "\n",
    "```\n",
    "\n",
    "**Example 3:**\n",
    "\n",
    "```\n",
    "Input: points = [[1,2],[2,3],[3,4],[4,5]]\n",
    "Output: 2\n",
    "Explanation: The balloons can be burst by 2 arrows:\n",
    "- Shoot an arrow at x = 2, bursting the balloons [1,2] and [2,3].\n",
    "- Shoot an arrow at x = 4, bursting the balloons [3,4] and [4,5].\n",
    "\n",
    "```\n",
    "\n",
    "**Constraints:**\n",
    "\n",
    "- `1 <= points.length <= 10^5`\n",
    "- `points[i].length == 2`\n",
    "- `231 <= xstart < xend <= 2^31 - 1`"
   ]
  },
  {
   "cell_type": "code",
   "execution_count": 3,
   "id": "d661ab00",
   "metadata": {},
   "outputs": [
    {
     "name": "stdout",
     "output_type": "stream",
     "text": [
      "4\n"
     ]
    }
   ],
   "source": [
    "def find_min_arrow_shots(points):\n",
    "    if not points:\n",
    "        return 0\n",
    "    points.sort(key=lambda x: x[1])\n",
    "    arrows = 1\n",
    "    curr_end = points[0][1]\n",
    "    for start, end in points:\n",
    "        if start > curr_end:\n",
    "            arrows += 1\n",
    "            curr_end = end\n",
    "    return arrows\n",
    "\n",
    "points = [[1,2],[3,4],[5,6],[7,8]]\n",
    "result = find_min_arrow_shots(points)\n",
    "print(result)"
   ]
  },
  {
   "cell_type": "code",
   "execution_count": 4,
   "id": "d6523c35",
   "metadata": {},
   "outputs": [
    {
     "name": "stdout",
     "output_type": "stream",
     "text": [
      "2\n"
     ]
    }
   ],
   "source": [
    "points = [[10,16],[2,8],[1,6],[7,12]]\n",
    "result = find_min_arrow_shots(points)\n",
    "print(result)"
   ]
  },
  {
   "cell_type": "markdown",
   "id": "29e20f6c",
   "metadata": {},
   "source": [
    "### Complexity:\n",
    "The time complexity of this algorithm is O(n log n) due to the sorting step, where n is the number of balloons. The subsequent iteration through the sorted list has a linear time complexity of O(n). However, since sorting dominates the overall time complexity, the function's time complexity is O(n log n).\n",
    "\n",
    "The space complexity of this algorithm is O(1) because it uses a constant amount of extra space, regardless of the input size."
   ]
  },
  {
   "cell_type": "markdown",
   "id": "0272e9b5",
   "metadata": {},
   "source": [
    "### **Q.7.** **Longest Increasing Subsequence**\n",
    "\n",
    "Given an integer array `nums`, return *the length of the longest **strictly increasing***\n",
    "\n",
    "***subsequence***\n",
    "\n",
    ".\n",
    "\n",
    "**Example 1:**\n",
    "\n",
    "```\n",
    "Input: nums = [10,9,2,5,3,7,101,18]\n",
    "Output: 4\n",
    "Explanation: The longest increasing subsequence is [2,3,7,101], therefore the length is 4.\n",
    "\n",
    "```\n",
    "\n",
    "**Example 2:**\n",
    "\n",
    "```\n",
    "Input: nums = [0,1,0,3,2,3]\n",
    "Output: 4\n",
    "\n",
    "```\n",
    "\n",
    "**Example 3:**\n",
    "\n",
    "```\n",
    "Input: nums = [7,7,7,7,7,7,7]\n",
    "Output: 1\n",
    "\n",
    "```\n",
    "\n",
    "**Constraints:**\n",
    "\n",
    "- `1 <= nums.length <= 2500`\n",
    "- `-10^4 <= nums[i] <= 10^4`"
   ]
  },
  {
   "cell_type": "code",
   "execution_count": 5,
   "id": "06c44a96",
   "metadata": {},
   "outputs": [
    {
     "name": "stdout",
     "output_type": "stream",
     "text": [
      "1\n"
     ]
    }
   ],
   "source": [
    "def length_of_lis(nums):\n",
    "    if not nums:\n",
    "        return 0\n",
    "    dp = [1] * len(nums)\n",
    "    for i in range(1, len(nums)):\n",
    "        for j in range(i):\n",
    "            if nums[i] > nums[j]:\n",
    "                dp[i] = max(dp[i], dp[j] + 1)\n",
    "    return max(dp)\n",
    "\n",
    "nums = [7,7,7,7,7,7,7]\n",
    "result = length_of_lis(nums)\n",
    "print(result)  # output 1 due to same elements in the list."
   ]
  },
  {
   "cell_type": "code",
   "execution_count": 6,
   "id": "1e5eb830",
   "metadata": {},
   "outputs": [
    {
     "name": "stdout",
     "output_type": "stream",
     "text": [
      "4\n"
     ]
    }
   ],
   "source": [
    "nums = [10,9,2,5,3,7,101,18]\n",
    "result = length_of_lis(nums)\n",
    "print(result)"
   ]
  },
  {
   "cell_type": "markdown",
   "id": "42ac307e",
   "metadata": {},
   "source": [
    "### Complexity:\n",
    "The time complexity of this algorithm is O(n^2), where n is the length of the nums list. This is because for each element, we compare it with all previous elements to find the longest increasing subsequence ending at that element.\n",
    "\n",
    "The space complexity of this algorithm is O(n) because it uses the dp list of the same length as the nums list to store the intermediate results."
   ]
  },
  {
   "cell_type": "markdown",
   "id": "43350aae",
   "metadata": {},
   "source": [
    "### **Q.8.** **132 Pattern**,....   Given an array of `n` integers `nums`, a **132 pattern** is a subsequence of three integers `nums[i]`, `nums[j]` and `nums[k]` such that `i < j < k` and `nums[i] < nums[k] < nums[j]`.\n",
    "\n",
    "Return `true` *if there is a **132 pattern** in* `nums`*, otherwise, return* `false`*.*\n",
    "\n",
    "**Example 1:**\n",
    "\n",
    "```\n",
    "Input: nums = [1,2,3,4]\n",
    "Output: false\n",
    "Explanation: There is no 132 pattern in the sequence.\n",
    "\n",
    "```\n",
    "\n",
    "**Example 2:**\n",
    "\n",
    "```\n",
    "Input: nums = [3,1,4,2]\n",
    "Output: true\n",
    "Explanation: There is a 132 pattern in the sequence: [1, 4, 2].\n",
    "\n",
    "```\n",
    "\n",
    "**Example 3:**\n",
    "\n",
    "```\n",
    "Input: nums = [-1,3,2,0]\n",
    "Output: true\n",
    "Explanation: There are three 132 patterns in the sequence: [-1, 3, 2], [-1, 3, 0] and [-1, 2, 0].\n",
    "\n",
    "```\n",
    "\n",
    "**Constraints:**\n",
    "\n",
    "- `n == nums.length`\n",
    "- `1 <= n <= 2 * 10^5`\n",
    "- `-10^9 <= nums[i] <= 10^9`"
   ]
  },
  {
   "cell_type": "code",
   "execution_count": 8,
   "id": "008d08e4",
   "metadata": {},
   "outputs": [
    {
     "name": "stdout",
     "output_type": "stream",
     "text": [
      "False\n"
     ]
    }
   ],
   "source": [
    "def find132pattern(nums):\n",
    "    stack = []\n",
    "    min_nums = [float('inf')] * len(nums)\n",
    "    for i in range(1, len(nums)):\n",
    "        min_nums[i] = min(min_nums[i-1], nums[i-1])\n",
    "    for j in range(len(nums)-1, -1, -1):\n",
    "        if nums[j] > min_nums[j]:\n",
    "            while stack and stack[-1] <= min_nums[j]:\n",
    "                stack.pop()\n",
    "            if stack and stack[-1] < nums[j]:\n",
    "                return True\n",
    "            stack.append(nums[j])\n",
    "    return False\n",
    "\n",
    "nums = [1,2,3,4]\n",
    "result = find132pattern(nums)\n",
    "print(result)  ## false because there is no 132 pattern in the list[[1,2,3,4]]"
   ]
  },
  {
   "cell_type": "markdown",
   "id": "1d6ddeb3",
   "metadata": {},
   "source": [
    "### Complexity:\n",
    "The time complexity of this algorithm is O(n) because it iterates through the nums list twice, once forward and once backward. Both iterations have linear time complexity.      \n",
    "The space complexity is O(n) because of the min_nums list and the stack, which can store up to n elements in the worst case."
   ]
  },
  {
   "cell_type": "code",
   "execution_count": null,
   "id": "b54db194",
   "metadata": {},
   "outputs": [],
   "source": []
  }
 ],
 "metadata": {
  "kernelspec": {
   "display_name": "Python 3 (ipykernel)",
   "language": "python",
   "name": "python3"
  },
  "language_info": {
   "codemirror_mode": {
    "name": "ipython",
    "version": 3
   },
   "file_extension": ".py",
   "mimetype": "text/x-python",
   "name": "python",
   "nbconvert_exporter": "python",
   "pygments_lexer": "ipython3",
   "version": "3.9.12"
  }
 },
 "nbformat": 4,
 "nbformat_minor": 5
}
