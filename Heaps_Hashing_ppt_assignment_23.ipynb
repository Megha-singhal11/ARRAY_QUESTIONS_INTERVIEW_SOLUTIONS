{
 "cells": [
  {
   "cell_type": "markdown",
   "metadata": {
    "id": "b4stCK7VGQ4d"
   },
   "source": [
    "### Question-1:\n",
    "\n",
    "Given preorder of a binary tree, calculate its **[depth(or height)](https://www.geeksforgeeks.org/write-a-c-program-to-find-the-maximum-depth-or-height-of-a-tree/)** [starting from depth 0]. The preorder is given as a string with two possible characters.\n",
    "\n",
    "1. ‘l’ denotes the leaf\n",
    "2. ‘n’ denotes internal node\n",
    "\n",
    "The given tree can be seen as a full binary tree where every node has 0 or two children. The two children of a node can ‘n’ or ‘l’ or mix of both.\n",
    "\n",
    "**Examples :**\n",
    "\n",
    "Input  : nlnll\n",
    "Output : 2\n",
    "Explanation :\n",
    "\n",
    "!https://media.geeksforgeeks.org/wp-content/uploads/btree1.png\n",
    "\n",
    "Input  : nlnnlll\n",
    "Output : 3\n",
    "\n",
    "</aside>"
   ]
  },
  {
   "cell_type": "code",
   "execution_count": null,
   "metadata": {
    "id": "_gREzFXZGTyN"
   },
   "outputs": [],
   "source": [
    "def calculate_depth(preorder):\n",
    "    # Base case: if the preorder is empty or the first character is 'l', the depth is 0\n",
    "    if not preorder or preorder[0] == 'l':\n",
    "        return 0\n",
    "\n",
    "    # Recursive case: find the depth of the left and right subtrees\n",
    "    left_subtree = preorder[1:]  # Remove the 'n' at the beginning\n",
    "    right_subtree = ''\n",
    "    i = 2  # Start at index 2 to skip the first 'n'\n",
    "\n",
    "    # Find the end of the left subtree and extract the right subtree\n",
    "    open_count = 1\n",
    "    while i < len(preorder) and open_count > 0:\n",
    "        if preorder[i] == 'n':\n",
    "            open_count += 1\n",
    "        elif preorder[i] == 'l':\n",
    "            open_count -= 1\n",
    "        right_subtree += preorder[i]\n",
    "        i += 1\n",
    "\n",
    "    # Recursively calculate the depth of the left and right subtrees\n",
    "    depth_left = calculate_depth(left_subtree)\n",
    "    depth_right = calculate_depth(right_subtree)\n",
    "\n",
    "    # Return the maximum depth of the left and right subtrees, plus 1 for the current node\n",
    "    return max(depth_left, depth_right) + 1\n"
   ]
  },
  {
   "cell_type": "code",
   "execution_count": null,
   "metadata": {
    "colab": {
     "base_uri": "https://localhost:8080/"
    },
    "id": "4iaTYY3xGVZ_",
    "outputId": "d3ad5e3d-ee9f-4ea2-e938-5eb31153c822"
   },
   "outputs": [
    {
     "name": "stdout",
     "output_type": "stream",
     "text": [
      "2\n",
      "3\n"
     ]
    }
   ],
   "source": [
    "# Example 1\n",
    "preorder1 = 'nlnll'\n",
    "result1 = calculate_depth(preorder1)\n",
    "print(result1)\n",
    "\n",
    "# Example 2\n",
    "preorder2 = 'nlnnlll'\n",
    "result2 = calculate_depth(preorder2)\n",
    "print(result2)\n"
   ]
  },
  {
   "cell_type": "markdown",
   "metadata": {},
   "source": [
    "### Complexity:\n",
    "Time Complexity:\n",
    "    The algorithm traverses the preorder list to extract the left and right subtrees. This traversal takes O(N) time, where N is the size of the preorder list.\n",
    "The algorithm recursively calls calculate_depth for the left and right subtrees, each with a reduced size. The total number of recursive calls is proportional to the size of the preorder list.\n",
    "Therefore, the overall time complexity of the algorithm is O(N), where N is the size of the preorder list.\n",
    "\n",
    "Space Complexity:  The algorithm uses recursion to calculate the depth of the left and right subtrees. The maximum depth of the recursion is equal to the height of the binary tree.\n",
    "In the worst case, if the binary tree is skewed and resembles a linked list, the height of the tree is N-1, where N is the number of nodes in the tree.\n",
    "Therefore, the space complexity of the algorithm is O(N), where N is the number of nodes in the binary tree"
   ]
  },
  {
   "cell_type": "markdown",
   "metadata": {
    "id": "jHoHEsoOHY7x"
   },
   "source": [
    "### Question-2:\n",
    "\n",
    "Given a Binary tree, the task is to print the **left view** of the Binary Tree. The left view of a Binary Tree is a set of leftmost nodes for every level.\n",
    "\n",
    "**Examples:**\n",
    "\n",
    "***Input:***\n",
    "\n",
    "            4\n",
    "\n",
    "          /   \\\n",
    "\n",
    "        5     2\n",
    "\n",
    "             /   \\\n",
    "\n",
    "            3     1\n",
    "\n",
    "           /  \\\n",
    "\n",
    "          6    7\n",
    "\n",
    "***Output:** 4 5 3 6*\n",
    "\n",
    "**Explanation:**\n",
    "\n",
    "!https://media.geeksforgeeks.org/wp-content/cdn-uploads/left-view.png\n",
    "\n",
    "***Input:***\n",
    "\n",
    "                    1\n",
    "\n",
    "                  /   \\\n",
    "\n",
    "                2       3\n",
    "\n",
    "                 \\\n",
    "\n",
    "                   4\n",
    "\n",
    "                     \\\n",
    "\n",
    "                        5\n",
    "\n",
    "                           \\\n",
    "\n",
    "                             6\n",
    "\n",
    "**Output:** 1 2 4 5 6\n",
    "\n",
    "</aside>"
   ]
  },
  {
   "cell_type": "code",
   "execution_count": null,
   "metadata": {
    "colab": {
     "base_uri": "https://localhost:8080/"
    },
    "id": "t3SXc6huGYeW",
    "outputId": "4608f7cd-66ff-457a-a145-997953899fbe"
   },
   "outputs": [
    {
     "name": "stdout",
     "output_type": "stream",
     "text": [
      "4 5 3 6 "
     ]
    }
   ],
   "source": [
    "class Node:\n",
    "    def __init__(self, data):\n",
    "        self.data = data\n",
    "        self.left = None\n",
    "        self.right = None\n",
    "\n",
    "def print_left_view(root):\n",
    "    if root is None:\n",
    "        return\n",
    "\n",
    "    queue = [(root, 1)]  # Queue to perform level order traversal\n",
    "    current_level = 0\n",
    "    left_view = []\n",
    "\n",
    "    while queue:\n",
    "        node, level = queue.pop(0)\n",
    "\n",
    "        if level > current_level:\n",
    "            left_view.append(node.data)\n",
    "            current_level = level\n",
    "\n",
    "        if node.left:\n",
    "            queue.append((node.left, level + 1))\n",
    "        if node.right:\n",
    "            queue.append((node.right, level + 1))\n",
    "\n",
    "    # Print the left view\n",
    "    for node_data in left_view:\n",
    "        print(node_data, end=\" \")\n",
    "\n",
    "# Create the binary tree from the example\n",
    "root = Node(4)\n",
    "root.left = Node(5)\n",
    "root.right = Node(2)\n",
    "root.right.left = Node(3)\n",
    "root.right.right = Node(1)\n",
    "root.right.left.left = Node(6)\n",
    "root.right.left.right = Node(7)\n",
    "\n",
    "# Print the left view of the binary tree\n",
    "print_left_view(root)\n"
   ]
  },
  {
   "cell_type": "markdown",
   "metadata": {},
   "source": [
    "### Complexity:\n",
    "Time Complexity: Each node is processed once, and the operations performed for each node (appending to the left_view list, enqueueing left and right child nodes) take constant time.\n",
    "Therefore, the overall time complexity of the code is O(N), where N is the number of nodes in the binary tree.\n",
    "\n",
    "Space Complexity: The code uses a queue to perform the level order traversal. The maximum number of nodes that can be stored in the queue at any given time is the maximum number of nodes at a single level in the binary tree.\n",
    "In the worst case, when the binary tree is perfectly balanced or skewed, the maximum number of nodes at a single level is approximately N/2, where N is the number of nodes in the tree.\n",
    "Therefore, the space complexity of the code is O(N) in the worst case, as it requires storing N/2 nodes in the queue."
   ]
  },
  {
   "cell_type": "markdown",
   "metadata": {
    "id": "Hzc7URwnHlUr"
   },
   "source": [
    "# Question-3:\n",
    "\n",
    "Given a Binary Tree, print the Right view of it.\n",
    "\n",
    "The right view of a Binary Tree is a set of nodes visible when the tree is visited from the Right side.\n",
    "\n",
    "**Examples:**\n",
    "\n",
    "**Input:**\n",
    "\n",
    "         1\n",
    "\n",
    "      /     \\\n",
    "\n",
    "   2         3\n",
    "\n",
    "/   \\       /  \\\n",
    "\n",
    "4     5   6    7\n",
    "\n",
    "             \\\n",
    "\n",
    "               8\n",
    "\n",
    "**Output**:\n",
    "\n",
    "Right view of the tree is 1 3 7 8\n",
    "\n",
    "**Input:**\n",
    "\n",
    "         1\n",
    "\n",
    "       /\n",
    "\n",
    "    8\n",
    "\n",
    "  /\n",
    "\n",
    "7\n",
    "\n",
    "**Output**:\n",
    "\n",
    "Right view of the tree is 1 8 7\n",
    "\n",
    "</aside>"
   ]
  },
  {
   "cell_type": "code",
   "execution_count": null,
   "metadata": {
    "colab": {
     "base_uri": "https://localhost:8080/"
    },
    "id": "eSZClgAMHxJm",
    "outputId": "08462082-e999-4d59-c7f2-a39268d78e2e"
   },
   "outputs": [
    {
     "name": "stdout",
     "output_type": "stream",
     "text": [
      "1 3 7 8 "
     ]
    }
   ],
   "source": [
    "class Node:\n",
    "    def __init__(self, data):\n",
    "        self.data = data\n",
    "        self.left = None\n",
    "        self.right = None\n",
    "\n",
    "def print_right_view(root):\n",
    "    if root is None:\n",
    "        return\n",
    "\n",
    "    queue = [(root, 1)]  # Queue to perform level order traversal\n",
    "    current_level = 0\n",
    "    right_view = []\n",
    "\n",
    "    while queue:\n",
    "        node, level = queue.pop(0)\n",
    "\n",
    "        if level > current_level:\n",
    "            right_view.append(node.data)\n",
    "            current_level = level\n",
    "\n",
    "        if node.right:\n",
    "            queue.append((node.right, level + 1))\n",
    "        if node.left:\n",
    "            queue.append((node.left, level + 1))\n",
    "\n",
    "    # Print the right view\n",
    "    for node_data in right_view:\n",
    "        print(node_data, end=\" \")\n",
    "\n",
    "# Create the binary tree from the example\n",
    "root = Node(1)\n",
    "root.left = Node(2)\n",
    "root.right = Node(3)\n",
    "root.left.left = Node(4)\n",
    "root.left.right = Node(5)\n",
    "root.right.left = Node(6)\n",
    "root.right.right = Node(7)\n",
    "root.right.right.right = Node(8)\n",
    "\n",
    "# Print the right view of the binary tree\n",
    "print_right_view(root)\n"
   ]
  },
  {
   "cell_type": "markdown",
   "metadata": {
    "id": "gxAmsxrYIHhA"
   },
   "source": [
    "# Question-4:\n",
    "\n",
    "Given a Binary Tree, The task is to print the **bottom view** from left to right. A node **x** is there in output if x is the bottommost node at its horizontal distance. The horizontal distance of the left child of a node x is equal to a horizontal distance of x minus 1, and that of a right child is the horizontal distance of x plus 1.\n",
    "\n",
    "**Examples:**\n",
    "\n",
    "**Input:**\n",
    "\n",
    "             20\n",
    "\n",
    "           /     \\\n",
    "\n",
    "        8         22\n",
    "\n",
    "    /      \\         \\\n",
    "\n",
    "5         3        25\n",
    "\n",
    "        /    \\\n",
    "\n",
    "   10       14\n",
    "\n",
    "**Output:** 5, 10, 3, 14, 25.\n",
    "\n",
    "**Input:**\n",
    "\n",
    "             20\n",
    "\n",
    "           /     \\\n",
    "\n",
    "        8         22\n",
    "\n",
    "    /      \\      /   \\\n",
    "\n",
    " 5         3    4     25\n",
    "\n",
    "         /    \\\n",
    "\n",
    "     10       14\n",
    "\n",
    "**Output:**\n",
    "\n",
    "5 10 4 14 25.\n",
    "\n",
    "**Explanation:**\n",
    "\n",
    "If there are multiple bottom-most nodes for a horizontal distance from the root, then print the later one in the level traversal.\n",
    "\n",
    "**3 and 4** are both the bottom-most nodes at a horizontal distance of 0, we need to print 4.\n",
    "\n",
    "</aside>"
   ]
  },
  {
   "cell_type": "code",
   "execution_count": null,
   "metadata": {
    "colab": {
     "base_uri": "https://localhost:8080/"
    },
    "id": "ALY5vS1jIJhH",
    "outputId": "f5c01182-0c22-4394-c25e-8f491603a0e1"
   },
   "outputs": [
    {
     "name": "stdout",
     "output_type": "stream",
     "text": [
      "5 10 3 14 25 "
     ]
    }
   ],
   "source": [
    "from collections import deque\n",
    "\n",
    "class Node:\n",
    "    def __init__(self, data):\n",
    "        self.data = data\n",
    "        self.left = None\n",
    "        self.right = None\n",
    "\n",
    "def print_bottom_view(root):\n",
    "    if root is None:\n",
    "        return\n",
    "\n",
    "    horizontal_distance = {}  # Dictionary to store node values by horizontal distance\n",
    "    queue = deque([(root, 0)])  # Queue for level order traversal\n",
    "\n",
    "    while queue:\n",
    "        node, distance = queue.popleft()\n",
    "\n",
    "        # Update the value for the current horizontal distance\n",
    "        horizontal_distance[distance] = node.data\n",
    "\n",
    "        if node.left:\n",
    "            queue.append((node.left, distance - 1))\n",
    "        if node.right:\n",
    "            queue.append((node.right, distance + 1))\n",
    "\n",
    "    # Print the bottom view\n",
    "    for distance in sorted(horizontal_distance):\n",
    "        print(horizontal_distance[distance], end=\" \")\n",
    "\n",
    "# Create the binary tree from the example\n",
    "root = Node(20)\n",
    "root.left = Node(8)\n",
    "root.right = Node(22)\n",
    "root.left.left = Node(5)\n",
    "root.left.right = Node(3)\n",
    "root.right.right = Node(25)\n",
    "root.left.right.left = Node(10)\n",
    "root.left.right.right = Node(14)\n",
    "\n",
    "# Print the bottom view of the binary tree\n",
    "print_bottom_view(root)\n"
   ]
  },
  {
   "cell_type": "markdown",
   "metadata": {},
   "source": [
    "### Complexity:\n",
    "Time Complexity: Sorting the horizontal_distance dictionary by keys takes O(K log K) time, where K is the number of unique horizontal distances. However, since the number of unique horizontal distances is typically much smaller than the number of nodes in the tree, we can consider it as a constant factor.\n",
    "Therefore, the overall time complexity of the code is O(N), where N is the number of nodes in the binary tree.\n",
    "\n",
    "Space complexity: the code is O(N) in the worst case, as it requires storing N nodes in the queue and N horizontal distances in the horizontal_distance dictionary."
   ]
  },
  {
   "cell_type": "code",
   "execution_count": null,
   "metadata": {},
   "outputs": [],
   "source": []
  }
 ],
 "metadata": {
  "colab": {
   "provenance": []
  },
  "kernelspec": {
   "display_name": "Python 3 (ipykernel)",
   "language": "python",
   "name": "python3"
  },
  "language_info": {
   "codemirror_mode": {
    "name": "ipython",
    "version": 3
   },
   "file_extension": ".py",
   "mimetype": "text/x-python",
   "name": "python",
   "nbconvert_exporter": "python",
   "pygments_lexer": "ipython3",
   "version": "3.9.12"
  }
 },
 "nbformat": 4,
 "nbformat_minor": 1
}
