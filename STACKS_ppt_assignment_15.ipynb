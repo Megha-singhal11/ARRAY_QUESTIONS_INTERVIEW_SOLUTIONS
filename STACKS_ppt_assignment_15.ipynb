{
 "cells": [
  {
   "cell_type": "markdown",
   "id": "2b43e38a",
   "metadata": {},
   "source": [
    "### **Question 1**\n",
    "Given an array **arr[ ]** of size **N** having elements, the task is to find the next greater element for each element of the array in order of their appearance in the array.Next greater element of an element in the array is the nearest element on the right which is greater than the current element.If there does not exist next greater of current element, then next greater element for current element is -1. For example, next greater of the last element is always -1.\n",
    "\n",
    "#### Example1:\n",
    "```\n",
    "Input:\n",
    "N = 4, arr[] = [1 3 2 4]\n",
    "Output:\n",
    "3 4 4 -1\n",
    "Explanation:\n",
    "In the array, the next larger element\n",
    "to 1 is 3 , 3 is 4 , 2 is 4 and for 4 ?\n",
    "since it doesn't exist, it is -1.\n",
    "```\n",
    "#### Example2:\n",
    "```\n",
    "Input:\n",
    "N = 5, arr[] = [6 8 0 1 3]\n",
    "Output:\n",
    "8 -1 1 3 -1\n",
    "Explanation:\n",
    "In the array, the next larger element to\n",
    "6 is 8, for 8 there is no larger elements\n",
    "hence it is -1, for 0 it is 1 , for 1 it\n",
    "is 3 and then for 3 there is no larger\n",
    "element on right and hence -1.\n",
    "```"
   ]
  },
  {
   "cell_type": "markdown",
   "id": "5da702be",
   "metadata": {},
   "source": [
    "### Algorithm:\n",
    "1. Initialize an empty stack and a result array with -1 values.\n",
    "2. Traverse the input array from right to left.\n",
    "3. For each element, compare it with the elements at the top of the stack until an element greater than the current element is found or the stack becomes empty.\n",
    "4. If a greater element is found, store it in the result array at the corresponding index.\n",
    "5. Push the current element's index into the stack.\n",
    "6. After traversing the entire array, the result array will contain the next greater elements for each element."
   ]
  },
  {
   "cell_type": "code",
   "execution_count": 3,
   "id": "10644bec",
   "metadata": {},
   "outputs": [
    {
     "name": "stdout",
     "output_type": "stream",
     "text": [
      "8 -1 1 3 -1\n"
     ]
    }
   ],
   "source": [
    "N=len(arr)\n",
    "arr=[6,8,0,1,3]\n",
    "result = []\n",
    "\n",
    "for i in range(N):\n",
    "    next_greater = -1\n",
    "    for j in range(i+1, N):\n",
    "        if arr[j] > arr[i]:\n",
    " # Pop elements from the stack while they are smaller than or equal to the current element\n",
    "            next_greater = arr[j]\n",
    "            break\n",
    "# Push the current element's index into the stack\n",
    "    result.append(next_greater)\n",
    "\n",
    "print(' '.join(map(str, result)))\n"
   ]
  },
  {
   "cell_type": "markdown",
   "id": "695b0eab",
   "metadata": {},
   "source": [
    "### Complexity\n",
    "In this case:   \n",
    "         Time Complexity: The algorithm has a time complexity of O(N) since each element is pushed and popped from the stack at most once.   \n",
    "         Space Complexity: The algorithm has a space complexity of O(N) as we use an additional stack and result array of size N to store the indices and next greater elements."
   ]
  },
  {
   "cell_type": "markdown",
   "id": "4c1ff452",
   "metadata": {},
   "source": [
    "### **Question 2**\n",
    "Given an array **a** of integers of length **n**, find the nearest smaller number for every element such that the smaller element is on left side.If no small element present on the left print -1.\n",
    "\n",
    "#### Example1:\n",
    "```\n",
    "Input: n = 3\n",
    "a = {1, 6, 2}\n",
    "Output: -1 1 1\n",
    "Explaination: There is no number at the\n",
    "left of 1. Smaller number than 6 and 2 is 1.\n",
    "```\n",
    "#### Example2:\n",
    "```\n",
    "Input: n = 6\n",
    "a = {1, 5, 0, 3, 4, 5}\n",
    "Output: -1 1 -1 0 3 4\n",
    "Explaination: Upto 3 it is easy to see\n",
    "the smaller numbers. But for 4 the smaller\n",
    "numbers are 1, 0 and 3. But among them 3\n",
    "is closest. Similary for 5 it is 4.\n",
    "```"
   ]
  },
  {
   "cell_type": "markdown",
   "id": "b2ef58a9",
   "metadata": {},
   "source": [
    "### Algorithm:\n",
    "1. Initialize an empty stack and an empty result array.\n",
    "2. Traverse the input array from left to right.\n",
    "3. For each element, compare it with the elements at the top of the stack until a smaller element is found or the stack becomes empty.\n",
    "4. If a smaller element is found, store it in the result array.\n",
    "5. If the stack becomes empty, it means no smaller element is present on the left, so store -1 in the result array.\n",
    "6. Push the current element into the stack.\n",
    "7. After traversing the entire array, the result array will contain the nearest smaller elements for each element."
   ]
  },
  {
   "cell_type": "code",
   "execution_count": 4,
   "id": "5dc91d1a",
   "metadata": {},
   "outputs": [
    {
     "name": "stdout",
     "output_type": "stream",
     "text": [
      "[-1, 1, -1, 0, 3, 4]\n"
     ]
    }
   ],
   "source": [
    "def nearest_smaller(arr):\n",
    "    n = len(arr)\n",
    "    stack = []\n",
    "    result = []\n",
    "\n",
    "    for i in range(n):\n",
    "# Pop elements from the stack while they are greater than or equal to the current element\n",
    "        while stack and stack[-1] >= arr[i]:\n",
    "            stack.pop()\n",
    "            \n",
    "# If stack is not empty, it means we have found the nearest smaller element\n",
    "\n",
    "        if stack:\n",
    "            result.append(stack[-1])\n",
    "        else:\n",
    "            result.append(-1)\n",
    "            \n",
    "# Push the current element into the stack\n",
    "        stack.append(arr[i])\n",
    "\n",
    "    return result\n",
    "a = [1,5,0,3,4,5]\n",
    "output = nearest_smaller(a)\n",
    "print(output)"
   ]
  },
  {
   "cell_type": "markdown",
   "id": "5e897075",
   "metadata": {},
   "source": [
    "### Complexity\n",
    "In this case:   \n",
    "    Time Complexity: The algorithm has a time complexity of O(N) since each element is pushed and popped from the stack at most once.    \n",
    "    Space Complexity: The algorithm has a space complexity of O(N) as we use an additional stack and result array of size N to store the elements and nearest smaller elements."
   ]
  },
  {
   "cell_type": "markdown",
   "id": "963c3cc2",
   "metadata": {},
   "source": [
    "### **Question 3**\n",
    "Implement a Stack using two queues **q1** and **q2**.\n",
    "\n",
    "#### Example:\n",
    "```\n",
    "Input:\n",
    "push(2)\n",
    "push(3)\n",
    "pop()\n",
    "push(4)\n",
    "pop()\n",
    "Output:3 4\n",
    "Explanation:\n",
    "push(2) the stack will be {2}\n",
    "push(3) the stack will be {2 3}\n",
    "pop()   poped element will be 3 the\n",
    "        stack will be {2}\n",
    "push(4) the stack will be {2 4}\n",
    "pop()   poped element will be 4\n",
    "```"
   ]
  },
  {
   "cell_type": "code",
   "execution_count": 6,
   "id": "9ba5e4e5",
   "metadata": {},
   "outputs": [
    {
     "name": "stdout",
     "output_type": "stream",
     "text": [
      "6\n",
      "7\n"
     ]
    }
   ],
   "source": [
    "from queue import Queue\n",
    "\n",
    "class Stack:\n",
    "    def __init__(self):\n",
    "        self.q1 = Queue()\n",
    "        self.q2 = Queue()\n",
    "\n",
    "    def push(self, value):\n",
    "        self.q2.put(value)\n",
    "        while not self.q1.empty():\n",
    "            self.q2.put(self.q1.get())\n",
    "      # Swap q1 and q2\n",
    "        self.q1, self.q2 = self.q2, self.q1\n",
    "\n",
    "    def pop(self):\n",
    "        if self.q1.empty():\n",
    "            return None\n",
    "        return self.q1.get()\n",
    "\n",
    "# Example usage:\n",
    "stack = Stack()\n",
    "stack.push(5)\n",
    "stack.push(6)\n",
    "print(stack.pop())  \n",
    "stack.push(7)\n",
    "print(stack.pop()) "
   ]
  },
  {
   "cell_type": "markdown",
   "id": "99b58c73",
   "metadata": {},
   "source": [
    "### Complexity:\n",
    "In this case:   \n",
    "     push operation: O(N) (where N is the number of elements in the stack) because transferring all elements from q1 to q2 takes O(N) time.   \n",
    "    Space Complexity: O(N) as we use two queues to store the elements, but the maximum space required at any given time is N (when all elements are in the stack)."
   ]
  },
  {
   "cell_type": "markdown",
   "id": "df76c0f9",
   "metadata": {},
   "source": [
    "### **Question 4**\n",
    "You are given a stack **St**. You have to reverse the stack using recursion.\n",
    "\n",
    "#### Example:\n",
    "Input:St = {3,2,1,7,6}    \n",
    "Output:{6,7,1,2,3}"
   ]
  },
  {
   "cell_type": "markdown",
   "id": "51c55f93",
   "metadata": {},
   "source": [
    "### Algorithm:\n",
    "```\n",
    "Create a recursive function, let's say reverse_stack, that takes the stack St as a parameter.\n",
    "Base case: If the stack is empty or contains only one element, return.\n",
    "Recursive case: Pop the top element from the stack using St.pop() and store it in a variable, let's call it top_element.\n",
    "Recursively call reverse_stack on the remaining stack.\n",
    "Once the recursion returns, call another recursive function, let's say insert_at_bottom, to insert top_element at the bottom of the reversed stack.\n",
    "Base case for insert_at_bottom: If the stack is empty, push top_element into the stack.\n",
    "Recursive case for insert_at_bottom: Pop an element from the stack using St.pop() and store it in a variable, let's call it item. Recursively call insert_at_bottom on the remaining stack. Once the recursion returns, push item back into the stack.\n",
    "```"
   ]
  },
  {
   "cell_type": "code",
   "execution_count": 10,
   "id": "c0eda5ab",
   "metadata": {},
   "outputs": [
    {
     "name": "stdout",
     "output_type": "stream",
     "text": [
      "Original stack: [3, 2, 1, 7, 6]\n",
      "Reversed stack: [6, 7, 1, 2, 3]\n"
     ]
    }
   ],
   "source": [
    "def insert_at_bottom(St, item):\n",
    "    if len(St) == 0:\n",
    "        St.append(item)\n",
    "    else:\n",
    "        temp = St.pop()\n",
    "        insert_at_bottom(St, item)\n",
    "        St.append(temp)\n",
    "\n",
    "\n",
    "def reverse_stack(St):\n",
    "    if len(St) > 0:\n",
    "        top_element = St.pop()\n",
    "        reverse_stack(St)\n",
    "        insert_at_bottom(St, top_element)\n",
    "\n",
    "\n",
    "# Example usage\n",
    "stack = [3,2,1,7,6]\n",
    "print(\"Original stack:\", stack)\n",
    "\n",
    "reverse_stack(stack)\n",
    "print(\"Reversed stack:\", stack)\n"
   ]
  },
  {
   "cell_type": "markdown",
   "id": "b941618f",
   "metadata": {},
   "source": [
    "### Complexity\n",
    "In this case:\n",
    "      The time complexity of the reverse operation is O(N^2) in the worst case, where N is the number of elements in the stack. This is because for each element in the stack, we perform a recursive call and, in the worst case, need to traverse the entire stack for each element. \n",
    "      \n",
    " #### because of recursion technique then time complexity is high by using auxiliary stack we can reduce it O(N)\n",
    "      The space complexity is O(N) due to the recursion stack."
   ]
  },
  {
   "cell_type": "markdown",
   "id": "ac76e77b",
   "metadata": {},
   "source": [
    "### **Question 5**\n",
    "You are given a string **S**, the task is to reverse the string using stack.\n",
    "\n",
    "#### Example: \n",
    "Input: S=\"GeeksforGeeks\"    \n",
    "Output: skeeGrofskeeG"
   ]
  },
  {
   "cell_type": "markdown",
   "id": "2c1d83b1",
   "metadata": {},
   "source": [
    "### Algorithm:\n",
    "```\n",
    "Initialize an empty stack and an empty result string.\n",
    "Iterate over each character in the input string S.\n",
    "Push each character onto the stack.\n",
    "After the iteration, the stack will contain the characters in reverse order.\n",
    "Pop each character from the stack and append it to the result string.\n",
    "The result string will be the reversed string.\n",
    "```"
   ]
  },
  {
   "cell_type": "code",
   "execution_count": 11,
   "id": "d516f6f1",
   "metadata": {},
   "outputs": [
    {
     "name": "stdout",
     "output_type": "stream",
     "text": [
      "skeeGrofskeeG\n"
     ]
    }
   ],
   "source": [
    "def reverse_string(string):\n",
    "    stack = []\n",
    "    reversed_string = \"\"\n",
    "\n",
    "    for char in string:\n",
    "        stack.append(char)\n",
    "        \n",
    " # Pop each character from the stack and append it to the result string\n",
    "\n",
    "    while stack:\n",
    "        reversed_string += stack.pop()\n",
    "\n",
    "    return reversed_string\n",
    "\n",
    "S = \"GeeksforGeeks\"\n",
    "output = reverse_string(S)\n",
    "print(output)\n"
   ]
  },
  {
   "cell_type": "markdown",
   "id": "b3ec0e99",
   "metadata": {},
   "source": [
    "### Complexity:\n",
    "In this case:   \n",
    "    The time complexity of this approach is O(N), where N is the length of the input string S. This is because both pushing each character onto the stack and popping each character from the stack take O(N) time in total.    \n",
    "    The space complexity is O(N) as we use an additional stack to store the characters of the string."
   ]
  },
  {
   "cell_type": "markdown",
   "id": "fb443d68",
   "metadata": {},
   "source": [
    "### **Question 6**\n",
    "Given string **S** representing a postfix expression, the task is to evaluate the expression and find the final value. Operators will only include the basic arithmetic operators like ***, /, + and -**.\n",
    "\n",
    "#### Example:\n",
    "```\n",
    "Input: S = \"231*+9-\"\n",
    "Output: -4\n",
    "Explanation:\n",
    "After solving the given expression,\n",
    "we have -4 as result.\n",
    "```"
   ]
  },
  {
   "cell_type": "markdown",
   "id": "14fce312",
   "metadata": {},
   "source": [
    "### Algorithm:\n",
    "```\n",
    "Initialize an empty stack.\n",
    "Iterate over each character in the postfix expression.\n",
    "If the character is a digit, convert it to an integer and push it onto the stack.\n",
    "If the character is an operator, pop the last two operands from the stack.\n",
    "Perform the corresponding operation based on the operator.\n",
    "Push the result of the operation back onto the stack.\n",
    "After the iteration, the final result will be the only element left on the stack.\n",
    "```"
   ]
  },
  {
   "cell_type": "code",
   "execution_count": 27,
   "id": "c4609b41",
   "metadata": {},
   "outputs": [
    {
     "name": "stdout",
     "output_type": "stream",
     "text": [
      "-4\n"
     ]
    }
   ],
   "source": [
    "def evaluate_postfix(expression):\n",
    "    stack = []\n",
    "\n",
    "    for char in expression:\n",
    "        if char.isdigit():\n",
    "            stack.append(int(char))\n",
    "        else:\n",
    "            operand2 = stack.pop()\n",
    "            operand1 = stack.pop()\n",
    "\n",
    "            if char == '+':\n",
    "                stack.append(operand1 + operand2)\n",
    "            elif char == '-':\n",
    "                stack.append(operand1 - operand2)\n",
    "            elif char == '*':\n",
    "                stack.append(operand1 * operand2)\n",
    "            elif char == '/':\n",
    "                stack.append(operand1 / operand2)\n",
    "\n",
    "    return stack.pop()\n",
    "S = \"231*+9-\"\n",
    "output = evaluate_postfix(S)\n",
    "print(output)\n"
   ]
  },
  {
   "cell_type": "markdown",
   "id": "0854cadc",
   "metadata": {},
   "source": [
    "### Complexity:\n",
    "In this case:  \n",
    "    Time Complexity: The time complexity of this approach is O(N), where N is the length of the postfix expression. This is because we iterate over each character of the expression exactly once.     \n",
    "    Space Complexity: The space complexity is O(N) as we use an additional stack to store the operands during the evaluation process.   "
   ]
  },
  {
   "cell_type": "markdown",
   "id": "73233240",
   "metadata": {},
   "source": [
    "### **Question 7**\n",
    "\n",
    "Design a stack that supports push, pop, top, and retrieving the minimum element in constant time.\n",
    "\n",
    "Implement the `MinStack` class:\n",
    "\n",
    "- `MinStack()` initializes the stack object.\n",
    "- `void push(int val)` pushes the element `val` onto the stack.\n",
    "- `void pop()` removes the element on the top of the stack.\n",
    "- `int top()` gets the top element of the stack.\n",
    "- `int getMin()` retrieves the minimum element in the stack.\n",
    "\n",
    "You must implement a solution with `O(1)` time complexity for each function.\n",
    "\n",
    "#### Example:\n",
    "```\n",
    "Input\n",
    "[\"MinStack\",\"push\",\"push\",\"push\",\"getMin\",\"pop\",\"top\",\"getMin\"]\n",
    "[[],[-2],[0],[-3],[],[],[],[]]\n",
    "\n",
    "Output\n",
    "[null,null,null,null,-3,null,0,-2]\n",
    "\n",
    "Explanation\n",
    "MinStack minStack = new MinStack();\n",
    "minStack.push(-2);\n",
    "minStack.push(0);\n",
    "minStack.push(-3);\n",
    "minStack.getMin(); // return -3\n",
    "minStack.pop();\n",
    "minStack.top();    // return 0\n",
    "minStack.getMin(); // return -2\n",
    "```"
   ]
  },
  {
   "cell_type": "markdown",
   "id": "3186e6a6",
   "metadata": {},
   "source": [
    "### APPROACH: MINSTACK\n",
    "\n",
    "### Algorithm:\n",
    "```\n",
    "The push operation appends the value to the stack and updates the min_stack if the value is smaller or equal to the current minimum.\n",
    "The pop operation removes the top element from the stack and, if the popped value is the current minimum, removes it from the min_stack as well.\n",
    "The top operation returns the top element of the stack without removing it.\n",
    "The getMin operation returns the top element of the min_stack, which represents the minimum element in the stack.\n",
    "```"
   ]
  },
  {
   "cell_type": "code",
   "execution_count": 29,
   "id": "46b4b58c",
   "metadata": {},
   "outputs": [
    {
     "name": "stdout",
     "output_type": "stream",
     "text": [
      "1\n",
      "1\n",
      "2\n",
      "2\n"
     ]
    }
   ],
   "source": [
    "class MinStack:\n",
    "    def __init__(self):\n",
    "        self.stack = []\n",
    "        self.min_stack = []\n",
    "\n",
    "    def push(self, val):\n",
    "        self.stack.append(val)\n",
    "        if not self.min_stack or val <= self.min_stack[-1]:\n",
    "            self.min_stack.append(val)\n",
    "\n",
    "    def pop(self):\n",
    "        if self.stack:\n",
    "            popped_element = self.stack.pop()\n",
    "            if popped_element == self.min_stack[-1]:\n",
    "                self.min_stack.pop()\n",
    "\n",
    "    def top(self):\n",
    "        if self.stack:\n",
    "            return self.stack[-1]\n",
    "\n",
    "    def getMin(self):\n",
    "        if self.min_stack:\n",
    "            return self.min_stack[-1]\n",
    "\n",
    "# Example usage:\n",
    "minStack = MinStack()\n",
    "minStack.push(3)\n",
    "minStack.push(5)\n",
    "minStack.push(2)\n",
    "minStack.push(1)\n",
    "\n",
    "print(minStack.top())     # Output: 1\n",
    "print(minStack.getMin())  # Output: 1\n",
    "\n",
    "minStack.pop()\n",
    "print(minStack.top())     \n",
    "print(minStack.getMin()) "
   ]
  },
  {
   "cell_type": "markdown",
   "id": "f3f2bdb8",
   "metadata": {},
   "source": [
    "### Complexity:\n",
    "In this case:   \n",
    "      The time complexity for all operations (push, pop, top, getMin) is O(1) since we perform constant-time operations on the two stacks.    \n",
    "      The space complexity is O(N) as we use two stacks to store the elements, but the maximum space required is N (when all elements are in the stack)."
   ]
  },
  {
   "attachments": {
    "image.png": {
     "image/png": "[encoded data removed]"
    }
   },
   "cell_type": "markdown",
   "id": "7a9d6918",
   "metadata": {},
   "source": [
    "### **Question 8**\n",
    "Given `n` non-negative integers representing an elevation map where the width of each bar is `1`, compute how much water it can trap after raining.\n",
    "\n",
    "#### Example:\n",
    "![image.png](attachment:image.png)\n",
    "\n",
    "```\n",
    "Input: height = [0,1,0,2,1,0,1,3,2,1,2,1]\n",
    "Output: 6\n",
    "Explanation: The above elevation map (black section) is represented by array [0,1,0,2,1,0,1,3,2,1,2,1]. In this case, 6 units of rain water (blue section) are being trapped.\n",
    "```"
   ]
  },
  {
   "cell_type": "markdown",
   "id": "e69e50a6",
   "metadata": {},
   "source": [
    "### APPROACH: two-pointer approach\n",
    "\n",
    "### Algorithm:\n",
    "```\n",
    "We initialize two pointers, left and right, to the first and last indices of the elevation map, respectively.\n",
    "We also initialize left_max and right_max to keep track of the maximum heights encountered from the left and right directions.\n",
    "We iterate while the left pointer is less than the right pointer.\n",
    "If the height at the left pointer is less than the height at the right pointer:\n",
    "If the current height is greater than or equal to left_max, update left_max.\n",
    "Otherwise, calculate the amount of water that can be trapped at the left pointer by subtracting the current height from left_max and add it to the water variable.\n",
    "Move the left pointer one step to the right.\n",
    "If the height at the left pointer is greater than or equal to the height at the right pointer:\n",
    "If the current height is greater than or equal to right_max, update right_max.\n",
    "Otherwise, calculate the amount of water that can be trapped at the right pointer by subtracting the current height from right_max and add it to the water variable.\n",
    "Move the right pointer one step to the left.\n",
    "After the iteration, the water variable will contain the total amount of water trapped.\n",
    "```"
   ]
  },
  {
   "cell_type": "code",
   "execution_count": 30,
   "id": "c09d5690",
   "metadata": {},
   "outputs": [
    {
     "name": "stdout",
     "output_type": "stream",
     "text": [
      "6\n"
     ]
    }
   ],
   "source": [
    "def trap_water(height):\n",
    "    n = len(height)\n",
    "    if n < 3:\n",
    "        return 0\n",
    "\n",
    "    left = 0\n",
    "    right = n - 1\n",
    "    left_max = 0\n",
    "    right_max = 0\n",
    "    water = 0\n",
    "\n",
    "    while left < right:\n",
    "        if height[left] < height[right]:\n",
    "            if height[left] > left_max:\n",
    "                left_max = height[left]\n",
    "            else:\n",
    "                water += left_max - height[left]\n",
    "            left += 1\n",
    "        else:\n",
    "            if height[right] > right_max:\n",
    "                right_max = height[right]\n",
    "            else:\n",
    "                water += right_max - height[right]\n",
    "            right -= 1\n",
    "\n",
    "    return water\n",
    "height = [0, 1, 0, 2, 1, 0, 1, 3, 2, 1, 2, 1]\n",
    "output = trap_water(height)\n",
    "print(output)\n"
   ]
  },
  {
   "cell_type": "markdown",
   "id": "14e63588",
   "metadata": {},
   "source": [
    "### Complexity:\n",
    "In this case:   \n",
    "       The time complexity of this algorithm is O(N), where N is the length of the elevation map, as we iterate over each element once.       \n",
    "       The space complexity is O(1) as we only use a constant amount of additional variables to track the pointers, maximum heights, and the total water trapped.   "
   ]
  },
  {
   "cell_type": "code",
   "execution_count": null,
   "id": "85a3a8b4",
   "metadata": {},
   "outputs": [],
   "source": []
  }
 ],
 "metadata": {
  "kernelspec": {
   "display_name": "Python 3 (ipykernel)",
   "language": "python",
   "name": "python3"
  },
  "language_info": {
   "codemirror_mode": {
    "name": "ipython",
    "version": 3
   },
   "file_extension": ".py",
   "mimetype": "text/x-python",
   "name": "python",
   "nbconvert_exporter": "python",
   "pygments_lexer": "ipython3",
   "version": "3.9.12"
  }
 },
 "nbformat": 4,
 "nbformat_minor": 5
}
