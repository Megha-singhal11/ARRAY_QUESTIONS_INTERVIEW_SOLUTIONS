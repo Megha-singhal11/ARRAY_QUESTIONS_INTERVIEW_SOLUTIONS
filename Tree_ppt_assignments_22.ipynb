{
 "cells": [
  {
   "cell_type": "markdown",
   "id": "4f47d5e4",
   "metadata": {},
   "source": [
    "### Question-1: Given a Binary Tree (Bt), convert it to a Doubly Linked List(DLL). The left and right pointers in nodes are to be used as previous and next pointers respectively in converted DLL. The order of nodes in DLL must be the same as in Inorder for the given Binary Tree. The first node of Inorder traversal (leftmost node in BT) must be the head node of the DLL.\n",
    "\n"
   ]
  },
  {
   "cell_type": "code",
   "execution_count": 2,
   "id": "098314b4",
   "metadata": {},
   "outputs": [
    {
     "name": "stdout",
     "output_type": "stream",
     "text": [
      "10 36 15 "
     ]
    }
   ],
   "source": [
    "class Node:\n",
    "    def __init__(self, value):\n",
    "        self.data = value\n",
    "        self.left = None\n",
    "        self.right = None\n",
    "\n",
    "def binary_tree_to_dll(root):\n",
    "    if root is None:\n",
    "        return None\n",
    "\n",
    "    if root.left:\n",
    "        left = binary_tree_to_dll(root.left)\n",
    "        while left.right:\n",
    "            left = left.right\n",
    "        left.right = root\n",
    "        root.left = left\n",
    "\n",
    "    if root.right:\n",
    "        right = binary_tree_to_dll(root.right)\n",
    "        while right.left:\n",
    "            right = right.left\n",
    "        right.left = root\n",
    "        root.right = right\n",
    "\n",
    "    return root\n",
    "\n",
    "# Example usage:\n",
    "# Create a binary tree\n",
    "root = Node(10)\n",
    "root.left = Node(12)\n",
    "root.right = Node(15)\n",
    "root.left.left = Node(25)\n",
    "root.left.right = Node(30)\n",
    "root.right.left = Node(36)\n",
    "\n",
    "# Convert binary tree to DLL\n",
    "head = binary_tree_to_dll(root)\n",
    "\n",
    "# Printing the DLL\n",
    "while head:\n",
    "    print(head.data, end=\" \")\n",
    "    head = head.right\n"
   ]
  },
  {
   "cell_type": "markdown",
   "id": "234fb9f0",
   "metadata": {},
   "source": [
    "### Question-2: A Given a binary tree, the task is to flip the binary tree towards the right direction that is clockwise. See the below examples to see the transformation. In the flip operation, the leftmost node becomes the root of the flipped tree and its parent becomes its right child and the right sibling becomes its left child and the same should be done for all left most nodes recursively.\n",
    "\n"
   ]
  },
  {
   "cell_type": "code",
   "execution_count": 3,
   "id": "7187e626",
   "metadata": {},
   "outputs": [
    {
     "name": "stdout",
     "output_type": "stream",
     "text": [
      "5 4 3 2 1 "
     ]
    }
   ],
   "source": [
    "class Node:\n",
    "    def __init__(self, value):\n",
    "        self.data = value\n",
    "        self.left = None\n",
    "        self.right = None\n",
    "\n",
    "def flip_binary_tree(root):\n",
    "    if root is None or (root.left is None and root.right is None):\n",
    "        return root\n",
    "\n",
    "    flipped = flip_binary_tree(root.left)\n",
    "\n",
    "    root.left.left = root.right\n",
    "    root.left.right = root\n",
    "    root.left = root.right = None\n",
    "\n",
    "    return flipped\n",
    "\n",
    "# Example usage:\n",
    "# Create a binary tree\n",
    "root = Node(1)\n",
    "root.left = Node(2)\n",
    "root.right = Node(3)\n",
    "root.left.left = Node(4)\n",
    "root.left.right = Node(5)\n",
    "\n",
    "# Flip the binary tree\n",
    "flipped = flip_binary_tree(root)\n",
    "\n",
    "# Printing the flipped binary tree\n",
    "def print_tree_inorder(root):\n",
    "    if root:\n",
    "        print_tree_inorder(root.left)\n",
    "        print(root.data, end=\" \")\n",
    "        print_tree_inorder(root.right)\n",
    "\n",
    "print_tree_inorder(flipped)\n"
   ]
  },
  {
   "cell_type": "markdown",
   "id": "48e59fbc",
   "metadata": {},
   "source": [
    "### Question-3: Given a binary tree, print all its root-to-leaf paths without using recursion. For example, consider the following Binary Tree.\n",
    "\n",
    "**Input:**\n",
    "\n",
    "        6\n",
    "     /    \\\n",
    "    3      5\n",
    "  /   \\     \\\n",
    " 2     5     4\n",
    "     /   \\\n",
    "    7     4\n",
    "\n",
    "**Output:**\n",
    "\n",
    "There are 4 leaves, hence 4 root to leaf paths -\n",
    "  **6->3->2**\n",
    "  **6->3->5->7**\n",
    "  **6->3->5->4**\n",
    "  **6->5>4**"
   ]
  },
  {
   "cell_type": "code",
   "execution_count": 4,
   "id": "90c51d5a",
   "metadata": {},
   "outputs": [
    {
     "name": "stdout",
     "output_type": "stream",
     "text": [
      "6->5->4\n",
      "6->3->5->4\n",
      "6->3->5->7\n",
      "6->3->2\n"
     ]
    }
   ],
   "source": [
    "class Node:\n",
    "    def __init__(self, value):\n",
    "        self.data = value\n",
    "        self.left = None\n",
    "        self.right = None\n",
    "\n",
    "def print_root_to_leaf_paths(root):\n",
    "    stack = [(root, str(root.data))]\n",
    "\n",
    "    while stack:\n",
    "        node, path = stack.pop()\n",
    "\n",
    "        if node.left is None and node.right is None:\n",
    "            print(path)\n",
    "        \n",
    "        if node.left:\n",
    "            stack.append((node.left, path + \"->\" + str(node.left.data)))\n",
    "\n",
    "        if node.right:\n",
    "            stack.append((node.right, path + \"->\" + str(node.right.data)))\n",
    "\n",
    "# Example usage:\n",
    "# Create a binary tree\n",
    "root = Node(6)\n",
    "root.left = Node(3)\n",
    "root.right = Node(5)\n",
    "root.left.left = Node(2)\n",
    "root.left.right = Node(5)\n",
    "root.right.right = Node(4)\n",
    "root.left.right.left = Node(7)\n",
    "root.left.right.right = Node(4)\n",
    "\n",
    "# Print root-to-leaf paths\n",
    "print_root_to_leaf_paths(root)\n"
   ]
  },
  {
   "cell_type": "markdown",
   "id": "9aba08af",
   "metadata": {},
   "source": [
    "### Question-4:Given Preorder, Inorder and Postorder traversals of some tree. Write a program to check if they all are of the same tree.\n",
    "\n",
    "**Examples:**\n",
    "\n",
    "Input : \n",
    "\n",
    "        Inorder -> 4 2 5 1 3\n",
    "        Preorder -> 1 2 4 5 3\n",
    "        Postorder -> 4 5 2 3 1\n",
    "Output : \n",
    "\n",
    "Yes\n",
    "Explanation : \n",
    "\n",
    "All of the above three traversals are of\n",
    "the same tree \n",
    "\n",
    "                           1\n",
    "                         /   \\\n",
    "                        2     3\n",
    "                      /   \\\n",
    "                     4     5\n",
    "\n",
    "Input : \n",
    "\n",
    "        Inorder -> 4 2 5 1 3\n",
    "        Preorder -> 1 5 4 2 3\n",
    "        Postorder -> 4 1 2 3 5\n",
    "Output : \n",
    "\n",
    "No\n"
   ]
  },
  {
   "cell_type": "code",
   "execution_count": 5,
   "id": "10432d06",
   "metadata": {},
   "outputs": [
    {
     "name": "stdout",
     "output_type": "stream",
     "text": [
      "Yes\n"
     ]
    }
   ],
   "source": [
    "def check_traversals_same_tree(inorder, preorder, postorder):\n",
    "    if len(inorder) != len(preorder) or len(preorder) != len(postorder):\n",
    "        return False\n",
    "    \n",
    "    if len(inorder) == 0:\n",
    "        return True\n",
    "\n",
    "    if set(inorder) != set(preorder) or set(inorder) != set(postorder):\n",
    "        return False\n",
    "    \n",
    "    root = preorder[0]\n",
    "    root_index = inorder.index(root)\n",
    "    \n",
    "    left_inorder = inorder[:root_index]\n",
    "    right_inorder = inorder[root_index+1:]\n",
    "    \n",
    "    left_preorder = preorder[1:root_index+1]\n",
    "    right_preorder = preorder[root_index+1:]\n",
    "    \n",
    "    left_postorder = postorder[:root_index]\n",
    "    right_postorder = postorder[root_index:-1]\n",
    "    \n",
    "    return check_traversals_same_tree(left_inorder, left_preorder, left_postorder) and \\\n",
    "           check_traversals_same_tree(right_inorder, right_preorder, right_postorder)\n",
    "\n",
    "# Example usage:\n",
    "inorder = [4, 2, 5, 1, 3]\n",
    "preorder = [1, 2, 4, 5, 3]\n",
    "postorder = [4, 5, 2, 3, 1]\n",
    "\n",
    "if check_traversals_same_tree(inorder, preorder, postorder):\n",
    "    print(\"Yes\")\n",
    "else:\n",
    "    print(\"No\")\n"
   ]
  }
 ],
 "metadata": {
  "kernelspec": {
   "display_name": "Python 3 (ipykernel)",
   "language": "python",
   "name": "python3"
  },
  "language_info": {
   "codemirror_mode": {
    "name": "ipython",
    "version": 3
   },
   "file_extension": ".py",
   "mimetype": "text/x-python",
   "name": "python",
   "nbconvert_exporter": "python",
   "pygments_lexer": "ipython3",
   "version": "3.9.12"
  }
 },
 "nbformat": 4,
 "nbformat_minor": 5
}
