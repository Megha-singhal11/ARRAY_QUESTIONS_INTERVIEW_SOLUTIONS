{
 "cells": [
  {
   "cell_type": "markdown",
   "metadata": {},
   "source": [
    "### **Question 1**\n",
    "\n",
    "Convert 1D Array Into 2D Array\n",
    "You are given a **0-indexed** 1-dimensional (1D) integer array original, and two integers, m and n. You are tasked with creating a 2-dimensional (2D) array with  m rows and n columns using **all** the elements from original.\n",
    "The elements from indices 0 to n - 1 (**inclusive**) of original should form the first row of the constructed 2D array, the elements from indices n to 2 * n - 1 (**inclusive**) should form the second row of the constructed 2D array, and so on.\n",
    "Return *an* m x n *2D array constructed according to the above procedure, or an empty 2D array if it is impossible*.\n",
    "\n",
    "### Example:\n",
    "**Input:** original = [1,2,3,4], m = 2, n = 2  \n",
    "**Output:** [[1,2],[3,4]]    \n",
    "**Explanation:** The constructed 2D array should contain 2 rows and 2 columns.   \n",
    "The first group of n=2 elements in original, [1,2], becomes the first row in the constructed 2D array.   \n",
    "The second group of n=2 elements in original, [3,4], becomes the second row in the constructed 2D array.   "
   ]
  },
  {
   "cell_type": "markdown",
   "metadata": {},
   "source": [
    "### PROCEDURE:\n",
    "1. The elements from indices 0 to n – 1 (inclusive) of original should form the first row of the constructed 2D array, the elements from indices n to 2 * n – 1 (inclusive) should form the second row of the constructed 2D array, and so on.\n",
    "2. Return an m x n 2D array constructed according to the above procedure, or an empty 2D array if it is impossible.\n",
    "#### 3. When is it possible to convert original into a 2D array and when is it impossible?\n",
    "It is possible if and only if m * n == original.length\n",
    "If it is possible to convert original to a 2D array, keep an index i such that original[i] is the next element to add to the 2D array."
   ]
  },
  {
   "cell_type": "code",
   "execution_count": 5,
   "metadata": {},
   "outputs": [
    {
     "name": "stdout",
     "output_type": "stream",
     "text": [
      "[[1, 2], [3, 4]]\n"
     ]
    }
   ],
   "source": [
    "def construct2DArray(original: list[int], m: int, n: int):\n",
    "        if len(original) != m * n:\n",
    "            return []\n",
    "        t = 0\n",
    "        ans = [[0 for _ in range(n)] for _ in range(m)]\n",
    "        for r in range(m):\n",
    "            for c in range(n):\n",
    "                ans[r][c] = original[t]\n",
    "                t += 1\n",
    "        return ans\n",
    "\n",
    "original = [1, 2, 3, 4]\n",
    "m = 2\n",
    "n = 2\n",
    "result = construct2DArray(original, m, n)\n",
    "print(result)"
   ]
  },
  {
   "cell_type": "markdown",
   "metadata": {},
   "source": [
    "### COMPLEXITY ANALYSIS\n",
    "In this case:\n",
    "    Time complexity is O(N)    \n",
    "    Space complexity is O(N)\n",
    "##### NOTE: where N is the length of the original 1D array."
   ]
  },
  {
   "cell_type": "markdown",
   "metadata": {},
   "source": [
    "### **Question 2**\n",
    "\n",
    "You have n coins and you want to build a staircase with these coins. The staircase consists of k rows where the ith row has exactly i coins. The last row of the staircase **may be** incomplete.\n",
    "Given the integer n, return *the number of **complete rows** of the staircase you will build*.\n",
    "\n",
    "### Example:\n",
    "**Input:** n = 5   \n",
    "**Output:** 2   \n",
    "**Explanation:** Because the 3rd row is incomplete, we return 2."
   ]
  },
  {
   "cell_type": "code",
   "execution_count": 23,
   "metadata": {},
   "outputs": [
    {
     "name": "stdout",
     "output_type": "stream",
     "text": [
      "2\n"
     ]
    }
   ],
   "source": [
    "def arrangeCoins(n: int):\n",
    "    left = 0\n",
    "    right = n\n",
    "    while left <= right:\n",
    "        k = (right + left) // 2\n",
    "        curr = k * (k + 1) // 2\n",
    "        if curr == n:\n",
    "            return k\n",
    "        if n < curr:\n",
    "            right = k - 1\n",
    "        else:\n",
    "            left = k + 1\n",
    "    return right\n",
    "\n",
    "n = 5\n",
    "result = arrangeCoins(n)\n",
    "print(result)"
   ]
  },
  {
   "cell_type": "markdown",
   "metadata": {},
   "source": [
    "### **Question 3**\n",
    "\n",
    "Given an integer array nums sorted in **non-decreasing** order, return *an array of **the squares of each number** sorted in non-decreasing order*.\n",
    "\n",
    "### **Example:**\n",
    "\n",
    "**Input:** nums = [-4,-1,0,3,10]    \n",
    "**Output:** [0,1,9,16,100]    \n",
    "**Explanation:** After squaring, the array becomes [16,1,0,9,100].    \n",
    "After sorting, it becomes [0,1,9,16,100]."
   ]
  },
  {
   "cell_type": "markdown",
   "metadata": {},
   "source": [
    "### APPROACH: Two-pointer approach. \n",
    "\n",
    "### Algorithm:\n",
    "1. Initialize two pointers, left and right, pointing to the start and end of the input array nums, respectively.\n",
    "2. Initialize an empty list, result, to store the squared values in non-decreasing order.\n",
    "3. While left is less than or equal to right, do the following:\n",
    "    Compare the absolute values of nums[left] and nums[right].\n",
    "    Square the larger absolute value and append it to the beginning of result.\n",
    "    Move the corresponding pointer (left or right) towards the center of the array.\n",
    "4. Return the result list."
   ]
  },
  {
   "cell_type": "code",
   "execution_count": 2,
   "metadata": {},
   "outputs": [
    {
     "name": "stdout",
     "output_type": "stream",
     "text": [
      "[1, 4, 9, 16]\n"
     ]
    }
   ],
   "source": [
    "def sortedSquares(nums):\n",
    "    for i in range(len(nums)):\n",
    "        nums[i]*=nums[i]\n",
    "    nums.sort()\n",
    "    return nums\n",
    "\n",
    "arr = [1,2,3,4]\n",
    "print(sortedSquares(arr))"
   ]
  },
  {
   "cell_type": "markdown",
   "metadata": {},
   "source": [
    "### Complexity analysis:\n",
    "In this case:   \n",
    "    The time complexity of this algorithm is O(n), where n is the length of the input array nums, since we only iterate through the array once.     \n",
    "    The space complxity is O(n)"
   ]
  },
  {
   "cell_type": "markdown",
   "metadata": {},
   "source": [
    "### **Question 4**\n",
    "\n",
    "Given two **0-indexed** integer arrays nums1 and nums2, return *a list* answer *of size* 2 *where:*\n",
    "- answer[0] *is a list of all **distinct** integers in* nums1 *which are **not** present in* nums2*.*\n",
    "- answer[1] *is a list of all **distinct** integers in* nums2 *which are **not** present in* nums1.\n",
    "\n",
    "**Note** that the integers in the lists may be returned in **any** order.\n",
    "\n",
    "### **Example:**\n",
    "**Input:** nums1 = [1,2,3], nums2 = [2,4,6]   \n",
    "**Output:** [[1,3],[4,6]]   \n",
    "**Explanation:**    \n",
    "For nums1, nums1[1] = 2 is present at index 0 of nums2, whereas nums1[0] = 1 and nums1[2] = 3 are not present in nums2. Therefore, answer[0] = [1,3].   \n",
    "For nums2, nums2[0] = 2 is present at index 1 of nums1, whereas nums2[1] = 4 and nums2[2] = 6 are not present in nums2. Therefore, answer[1] = [4,6].   "
   ]
  },
  {
   "cell_type": "markdown",
   "metadata": {},
   "source": [
    "### Algorithm:\n",
    "1. Initialize two sets, set1 and set2, to store the distinct integers from nums1 and\n",
    "nums2 respectively.\n",
    "2. Iterate through each element num in nums1 and do the following:\n",
    "    Add num to set1.\n",
    "3. Iterate through each element num in nums2 and do the following:\n",
    "    Add num to set2.\n",
    "4. Calculate the symmetric difference between set1 and set2 to find the distinct integers that are present in nums1 but not in nums2. Store the result in distinct_nums1.\n",
    "5. Calculate the symmetric difference between set2 and set1 to find the distinct integers that are present in nums2 but not in nums1. Store the result in distinct_nums2.\n",
    "6. Return a list [distinct_nums1, distinct_nums2]."
   ]
  },
  {
   "cell_type": "code",
   "execution_count": 24,
   "metadata": {},
   "outputs": [
    {
     "name": "stdout",
     "output_type": "stream",
     "text": [
      "[[1, 3], [4, 6]]\n"
     ]
    }
   ],
   "source": [
    "def findDisappearedNumbers(nums1, nums2):\n",
    "    set1 = set(nums1)\n",
    "    set2 = set(nums2)\n",
    "    result1 = []\n",
    "    result2 = []\n",
    "\n",
    "    for num in nums1:\n",
    "        if num not in set2:\n",
    "            result1.append(num)\n",
    "\n",
    "    for num in nums2:\n",
    "        if num not in set1:\n",
    "            result2.append(num)\n",
    "\n",
    "    return [result1, result2]\n",
    "nums1 = [1, 2, 3]\n",
    "nums2 = [2, 4, 6]\n",
    "print(findDisappearedNumbers(nums1, nums2))"
   ]
  },
  {
   "cell_type": "markdown",
   "metadata": {},
   "source": [
    "### Complexity analysis:\n",
    "In this case:\n",
    "    The time complexity of this algorithm is O(n + m), where n and m are the lengths of nums1 and nums2 respectively. Since we iterate through both arrays once, the time complexity is linear with respect to the total number of elements in both arrays.\n",
    "    The space complexity is O(n)"
   ]
  },
  {
   "cell_type": "markdown",
   "metadata": {},
   "source": [
    "### **Question 5**\n",
    "\n",
    "Given two integer arrays arr1 and arr2, and the integer d, *return the distance value between the two arrays*.\n",
    "\n",
    "The distance value is defined as the number of elements arr1[i] such that there is not any element arr2[j] where |arr1[i]-arr2[j]| <= d.\n",
    "\n",
    "### **Example:**\n",
    "\n",
    "**Input:** arr1 = [4,5,8], arr2 = [10,9,1,8], d = 2\n",
    "\n",
    "**Output:** 2\n",
    "\n",
    "**Explanation:**\n",
    "For arr1[0]=4 we have:\n",
    "|4-10|=6 > d=2\n",
    "|4-9|=5 > d=2\n",
    "|4-1|=3 > d=2\n",
    "|4-8|=4 > d=2\n",
    "\n",
    "For arr1[1]=5 we have:\n",
    "|5-10|=5 > d=2\n",
    "|5-9|=4 > d=2\n",
    "|5-1|=4 > d=2\n",
    "|5-8|=3 > d=2\n",
    "\n",
    "For arr1[2]=8 we have:\n",
    "**|8-10|=2 <= d=2**\n",
    "**|8-9|=1 <= d=2**\n",
    "|8-1|=7 > d=2\n",
    "**|8-8|=0 <= d=2**"
   ]
  },
  {
   "cell_type": "markdown",
   "metadata": {},
   "source": [
    "### Algorithm:\n",
    "1. Initialize a variable distance_value to 0.\n",
    "2. Iterate through each element num1 in arr1 and do the following:\n",
    "    Set a flag variable found to False.\n",
    "    Iterate through each element num2 in arr2 and do the following:\n",
    "    If |num1 - num2| &lt;= d, set found to True and break out of the inner loop.\n",
    "    If found is False, increment distance_value by 1.\n",
    "3. Return the value of distance_value."
   ]
  },
  {
   "cell_type": "code",
   "execution_count": 4,
   "metadata": {},
   "outputs": [
    {
     "name": "stdout",
     "output_type": "stream",
     "text": [
      "2\n"
     ]
    }
   ],
   "source": [
    "def distance_value(arr1, arr2, d):\n",
    "    count = 0\n",
    "    for num1 in arr1:\n",
    "        is_valid = True\n",
    "        for num2 in arr2:\n",
    "            if abs(num1 - num2) <= d:\n",
    "                is_valid = False\n",
    "                break\n",
    "        if is_valid:\n",
    "            count += 1\n",
    "    return count\n",
    "\n",
    "# Example usage\n",
    "arr1 = [4, 5, 8]\n",
    "arr2 = [10, 9, 1, 8]\n",
    "d = 2\n",
    "\n",
    "distance = distance_value(arr1, arr2, d)\n",
    "print(distance)"
   ]
  },
  {
   "cell_type": "markdown",
   "metadata": {},
   "source": [
    "### Complexity analysis:\n",
    "In this case:\n",
    "    The time complexity of this algorithm is O(n * m), where n and m are the lengths of arr1\n",
    "and arr2 respectively. Since we iterate through both arrays nested within each other,\n",
    "the time complexity is quadratic in the worst case.\n",
    "     The space complexity is O(n*m)"
   ]
  },
  {
   "cell_type": "markdown",
   "metadata": {},
   "source": [
    "**Question 6**\n",
    "\n",
    "Given an integer array nums of length n where all the integers of nums are in the range [1, n] and each integer appears **once** or **twice**, return *an array of all the integers that appears **twice***.\n",
    "You must write an algorithm that runs in O(n) time and uses only constant extra space.\n",
    "\n",
    "### **Example:**\n",
    "**Input:** nums = [4,3,2,7,8,2,3,1]   \n",
    "**Output:** [2,3]\n"
   ]
  },
  {
   "cell_type": "raw",
   "metadata": {},
   "source": [
    "### *Algorithm*:\n",
    "1. Initialize an empty list, result, to store the integers that appear twice.\n",
    "2. Iterate through each element,`num`, in `nums`.\n",
    "3. Calculate the absolute value of `num`.\n",
    "4. If `nums[abs(num) - 1]` is positive, multiply it by -1 to mark the presence of `num`.\n",
    "5. If `nums[abs(num) - 1]` is negative, it means we have encountered `num` before and it appears twice.\n",
    "   In this case, add `abs(num)` to `result`.\n",
    "6. Return the `result` list."
   ]
  },
  {
   "cell_type": "code",
   "execution_count": 5,
   "metadata": {},
   "outputs": [
    {
     "name": "stdout",
     "output_type": "stream",
     "text": [
      "[1, 6, 2]\n"
     ]
    }
   ],
   "source": [
    "def findDuplicates(nums):\n",
    "    ans, lset= [],{}\n",
    "    for i,v in enumerate(nums):\n",
    "        if v not in lset:\n",
    "            lset[v] =1;\n",
    "        else:\n",
    "            lset[v] += 1;\n",
    "    \n",
    "    for key , value in lset.items():\n",
    "        if value > 1:\n",
    "            ans.append(key)\n",
    "    return ans\n",
    "\n",
    "arr = [1,5,6,1,2,2,6]\n",
    "print(findDuplicates(arr))"
   ]
  },
  {
   "cell_type": "markdown",
   "metadata": {},
   "source": [
    "### Complexity analysis:\n",
    "In this case:\n",
    "    The time complexity of this algorithm is O(n) since we iterate through the input array `nums` once.\n",
    "    The space complexity is O(1) since we are not using any additional data structures that depend on the size of the input array."
   ]
  },
  {
   "cell_type": "markdown",
   "metadata": {},
   "source": [
    "### **Question 7**\n",
    "\n",
    "Suppose an array of length n sorted in ascending order is **rotated** between 1 and n times. For example, the array nums = [0,1,2,4,5,6,7] might become:\n",
    "- [4,5,6,7,0,1,2] if it was rotated 4 times.\n",
    "- [0,1,2,4,5,6,7] if it was rotated 7 times.\n",
    "Notice that **rotating** an array [a[0], a[1], a[2], ..., a[n-1]] 1 time results in the array [a[n-1], a[0], a[1], a[2], ..., a[n-2]].\n",
    "Given the sorted rotated array nums of **unique** elements, return *the minimum element of this array*.\n",
    "You must write an algorithm that runs in O(log n) time.\n",
    "\n",
    "### **Example:**\n",
    "\n",
    "**Input:** nums = [3,4,5,1,2]\n",
    "**Output:** 1\n",
    "**Explanation:**\n",
    "The original array was [1,2,3,4,5] rotated 3 times."
   ]
  },
  {
   "cell_type": "markdown",
   "metadata": {},
   "source": [
    "### APPROACH: BINARY SEARCH APPROACH\n",
    "\n",
    "### Algorithm:\n",
    "1. Initialize two pointers, left and right, to the first and last indices of the array\n",
    "respectively.\n",
    "2. Perform binary search while left is less than right.\n",
    "    Calculate the middle index as mid = left + (right - left) // 2.\n",
    "    Compare the middle element nums[mid] with the first element nums[0] and the last element nums[right].\n",
    "    If nums[mid] is greater than nums[right], it means the minimum element is in the right half of the array. \n",
    "    Update left = mid + 1.\n",
    "    Otherwise, the minimum element is in the left half of the array or nums[mid] itself. Update right = mid.\n",
    "3. At the end of the binary search, left and right will point to the minimum element.\n",
    "4. Return nums[left] or nums[right] as the minimum element."
   ]
  },
  {
   "cell_type": "code",
   "execution_count": 6,
   "metadata": {},
   "outputs": [
    {
     "name": "stdout",
     "output_type": "stream",
     "text": [
      "1\n"
     ]
    }
   ],
   "source": [
    "def findMin(nums):\n",
    "    for i in range(len(nums)-1):\n",
    "        if(nums[i]<nums[i+1]):\n",
    "            i+=1\n",
    "        else:\n",
    "            return nums[i+1]\n",
    "    return nums[0]\n",
    "\n",
    "arr = [4,5,6,1,2]\n",
    "print(findMin(arr))"
   ]
  },
  {
   "cell_type": "markdown",
   "metadata": {},
   "source": [
    "### Complexity analysis:\n",
    "In this case:\n",
    "    The time complexity of this algorithm is O(log n) since we perform binary search on the rotated array.   \n",
    "    The space complexity is O(1) since we are using only a constant amount of extra space."
   ]
  },
  {
   "cell_type": "markdown",
   "metadata": {},
   "source": [
    "### **Question 8**\n",
    "\n",
    "An integer array original is transformed into a **doubled** array changed by appending **twice the value** of every element in original, and then randomly **shuffling** the resulting array.\n",
    "Given an array changed, return original *if* changed *is a **doubled** array. If* changed *is not a **doubled** array, return an empty array. The elements in* original *may be returned in **any** order*.\n",
    "\n",
    "### **Example:**\n",
    "\n",
    "**Input:** changed = [1,3,4,2,6,8]\n",
    "**Output:** [1,3,4]\n",
    "**Explanation:** One possible original array could be [1,3,4]:\n",
    "- Twice the value of 1 is 1 * 2 = 2.\n",
    "- Twice the value of 3 is 3 * 2 = 6.\n",
    "- Twice the value of 4 is 4 * 2 = 8.\n",
    "Other original arrays could be [4,3,1] or [3,1,4]."
   ]
  },
  {
   "cell_type": "markdown",
   "metadata": {},
   "source": [
    "### APPROACH: HASHSET\n",
    "\n",
    "### Algorithm:\n",
    "1. Initialize an empty hash set called original_set.\n",
    "2. Iterate through each element, num, in the changed array.\n",
    "3. Check if num/2 is in the original_set.\n",
    "   If it is not present, return an empty array since changed is not a doubled array.\n",
    "4. If num/2 is present, remove it from the original_set.\n",
    "5. After the loop, check if the original_set is empty.\n",
    "   If it is empty, return an empty array since all elements in changed were accounted for.\n",
    "   If it is not empty, return the remaining elements in the original_set as the original array."
   ]
  },
  {
   "cell_type": "code",
   "execution_count": 7,
   "metadata": {},
   "outputs": [
    {
     "name": "stdout",
     "output_type": "stream",
     "text": [
      "[1, 3, 4]\n"
     ]
    }
   ],
   "source": [
    "def find_original_array(changed):\n",
    "    frequency = {}\n",
    "    for num in changed:\n",
    "        frequency[num] = frequency.get(num, 0) + 1\n",
    "\n",
    "    original = []\n",
    "    for num in sorted(changed):\n",
    "        if frequency.get(num, 0) == 0:\n",
    "            continue\n",
    "        if frequency.get(2 * num, 0) == 0:\n",
    "            return []\n",
    "        original.append(num)\n",
    "        frequency[num] -= 1\n",
    "        frequency[2 * num] -= 1\n",
    "\n",
    "    return original\n",
    "\n",
    "# Example usage\n",
    "changed = [1, 3, 4, 2, 6, 8]\n",
    "original = find_original_array(changed)\n",
    "print(original)\n"
   ]
  },
  {
   "cell_type": "markdown",
   "metadata": {},
   "source": [
    "### Complexity analysis:\n",
    "In this case:\n",
    "    The time complexity of this algorithm is O(n), where n is the length of the changed array.\n",
    "We iterate through each element once and perform set operations with constant time\n",
    "complexity.    \n",
    "   The space complexity is O(n) as well since the original_set may store up to n/2\n",
    "elements if all elements in changed are unique"
   ]
  },
  {
   "cell_type": "code",
   "execution_count": null,
   "metadata": {},
   "outputs": [],
   "source": []
  }
 ],
 "metadata": {
  "kernelspec": {
   "display_name": "Python 3 (ipykernel)",
   "language": "python",
   "name": "python3"
  },
  "language_info": {
   "codemirror_mode": {
    "name": "ipython",
    "version": 3
   },
   "file_extension": ".py",
   "mimetype": "text/x-python",
   "name": "python",
   "nbconvert_exporter": "python",
   "pygments_lexer": "ipython3",
   "version": "3.9.12"
  }
 },
 "nbformat": 4,
 "nbformat_minor": 2
}
