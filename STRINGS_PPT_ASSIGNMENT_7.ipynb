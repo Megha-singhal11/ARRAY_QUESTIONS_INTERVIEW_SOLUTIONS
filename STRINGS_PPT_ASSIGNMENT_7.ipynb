{
 "cells": [
  {
   "cell_type": "markdown",
   "metadata": {},
   "source": [
    "### **Question 1**\n",
    "\n",
    "Given two strings s and t, *determine if they are isomorphic*.\n",
    "\n",
    "Two strings s and t are isomorphic if the characters in s can be replaced to get t.\n",
    "\n",
    "All occurrences of a character must be replaced with another character while preserving the order of characters. No two characters may map to the same character, but a character may map to itself.\n",
    "\n",
    "### **Example:**\n",
    "\n",
    "**Input:** s = \"egg\", t = \"add\"\n",
    "\n",
    "**Output:** true\n",
    "\n",
    "</aside>"
   ]
  },
  {
   "cell_type": "markdown",
   "metadata": {},
   "source": [
    "### APPROACH: \n",
    "To determine if two strings, s and t, are isomorphic, we need to check if we can replace the characters in s to obtain t. The replacement should preserve the order of characters, and no two characters should map to the same character."
   ]
  },
  {
   "cell_type": "markdown",
   "metadata": {},
   "source": [
    "### Algorithm:\n",
    "The algorithm iterates through each character in s and t. It checks if the current character in s is already in the char_map. If it is, it verifies if the corresponding character in t matches the mapped value. If they don't match, it means the characters are not isomorphic, and we return False.\n",
    "\n",
    "If the current character in s is not in char_map, it checks if the corresponding character in t is already mapped to any other character from s (using the used_chars set). If it is, we return False. Otherwise, we add the mapping of char_s to char_t in char_map and mark char_t as used.\n",
    "\n",
    "If the loop completes without returning False, it means all characters in s and t are successfully mapped, and the strings are isomorphic. We return True."
   ]
  },
  {
   "cell_type": "code",
   "execution_count": 11,
   "metadata": {},
   "outputs": [
    {
     "name": "stdout",
     "output_type": "stream",
     "text": [
      "False\n"
     ]
    }
   ],
   "source": [
    "def isIsomorphic(s, t):\n",
    "    if len(s) != len(t):\n",
    "        return False\n",
    "\n",
    "    s_map = {}\n",
    "    t_map = {}\n",
    "\n",
    "    for i in range(len(s)):\n",
    "        s_char = s[i]\n",
    "        t_char = t[i]\n",
    "\n",
    "        if s_char in s_map:\n",
    "            if s_map[s_char] != t_char:\n",
    "                return False\n",
    "        else:\n",
    "            s_map[s_char] = t_char\n",
    "\n",
    "        if t_char in t_map:\n",
    "            if t_map[t_char] != s_char:\n",
    "                return False\n",
    "        else:\n",
    "            t_map[t_char] = s_char\n",
    "\n",
    "    return True\n",
    "\n",
    "s = \"good\"\n",
    "t = \"bad\"\n",
    "result = isIsomorphic(s, t)\n",
    "print(result) \n"
   ]
  },
  {
   "cell_type": "code",
   "execution_count": 3,
   "metadata": {},
   "outputs": [
    {
     "name": "stdout",
     "output_type": "stream",
     "text": [
      "True\n"
     ]
    }
   ],
   "source": [
    "### Example 2 :\n",
    "s = \"egg\"\n",
    "t = \"add\"\n",
    "result = isIsomorphic(s, t)\n",
    "print(result) "
   ]
  },
  {
   "cell_type": "markdown",
   "metadata": {},
   "source": [
    "### Complexity analysis:\n",
    "In this case:\n",
    "       The time complexity of this algorithm is O(n), where n is the length of the input strings s and t.    \n",
    "       The space complexity is also O(n) since we need to store the mappings in the char_map dictionary and keep track of used characters in the used_chars set. "
   ]
  },
  {
   "cell_type": "markdown",
   "metadata": {},
   "source": [
    "### **Question 2**\n",
    "\n",
    "Given a string num which represents an integer, return true *if* num *is a **strobogrammatic number***.\n",
    "A **strobogrammatic number** is a number that looks the same when rotated 180 degrees (looked at upside down).\n",
    "\n",
    "### **Example:**\n",
    "\n",
    "**Input:** num = \"69\"\n",
    "**Output:** true"
   ]
  },
  {
   "cell_type": "markdown",
   "metadata": {},
   "source": [
    "### Algorithm:\n",
    "1. The algorithm uses a dictionary strob_map to store the valid mappings of characters that remain the same or are mirrored. For example, '0' remains '0', '1' remains '1', '6' becomes '9', '8' remains '8', and '9' becomes '6'.\n",
    "\n",
    "2. The algorithm maintains two pointers, left and right, pointing to the start and end of the string num, respectively. It iterates until left is less than or equal to right.\n",
    "\n",
    "3. In each iteration, it checks if num[left] is a valid character and if num[right] is equal to the mirrored character according to strob_map. If either of these conditions is not met, it means the string num is not strobogrammatic, and we return False.\n",
    "\n",
    "4. If the loop completes without returning False, it means all pairs of characters in num are valid and mirrored, and the string is strobogrammatic. We return True."
   ]
  },
  {
   "cell_type": "code",
   "execution_count": 10,
   "metadata": {},
   "outputs": [
    {
     "name": "stdout",
     "output_type": "stream",
     "text": [
      "True\n",
      "False\n"
     ]
    }
   ],
   "source": [
    "def isStrobogrammatic(num):\n",
    "    strobogrammatic_pairs = {'0': '0', '1': '1', '6': '9', '8': '8', '9': '6'}\n",
    "    left, right = 0, len(num) - 1\n",
    "\n",
    "    while left <= right:\n",
    "        if num[left] not in strobogrammatic_pairs or num[right] != strobogrammatic_pairs[num[left]]:\n",
    "            return False\n",
    "        left += 1\n",
    "        right -= 1\n",
    "\n",
    "    return True\n",
    "### Examples\n",
    "num = \"69\"\n",
    "result = isStrobogrammatic(num)\n",
    "print(result)  \n",
    "\n",
    "num = \"596\"\n",
    "result = isStrobogrammatic(num)\n",
    "print(result)  \n"
   ]
  },
  {
   "cell_type": "markdown",
   "metadata": {},
   "source": [
    "### Complexity analysis:\n",
    "In this case:\n",
    "    The time complexity of this algorithm is O(n), where n is the length of the input string num.    \n",
    "    The space complexity is O(1) since the dictionary strob_map has a fixed number of mappings."
   ]
  },
  {
   "cell_type": "markdown",
   "metadata": {},
   "source": [
    "### **Question 3**\n",
    "\n",
    "Given two non-negative integers, num1 and num2 represented as string, return *the sum of* num1 *and* num2 *as a string*.\n",
    "You must solve the problem without using any built-in library for handling large integers (such as BigInteger). You must also not convert the inputs to integers directly.\n",
    "\n",
    "### **Example:**\n",
    "\n",
    "**Input:** num1 = \"11\", num2 = \"123\"\n",
    "**Output:** \"134\""
   ]
  },
  {
   "cell_type": "code",
   "execution_count": 9,
   "metadata": {},
   "outputs": [
    {
     "name": "stdout",
     "output_type": "stream",
     "text": [
      "134\n"
     ]
    }
   ],
   "source": [
    "def addStrings(num1, num2):\n",
    "    p1, p2 = len(num1) - 1, len(num2) - 1\n",
    "    carry = 0\n",
    "    result = \"\"\n",
    "\n",
    "    while p1 >= 0 or p2 >= 0 or carry != 0:\n",
    "        x = int(num1[p1]) if p1 >= 0 else 0\n",
    "        y = int(num2[p2]) if p2 >= 0 else 0\n",
    "        temp = x + y + carry\n",
    "        result = str(temp % 10) + result\n",
    "        carry = temp // 10\n",
    "        p1 -= 1\n",
    "        p2 -= 1\n",
    "\n",
    "    return result\n",
    "\n",
    "\n",
    "\n",
    "num1 = \"11\"\n",
    "num2 = \"123\"\n",
    "result = addStrings(num1, num2)\n",
    "print(result) "
   ]
  },
  {
   "cell_type": "markdown",
   "metadata": {},
   "source": [
    "### Complexity analysis:\n",
    "In this case:   \n",
    "      The time complexity of this algorithm is O(max(m, n)), where m and n are the lengths of num1 and num2 respectively. The algorithm needs to iterate through all the digits in the longer number.    \n",
    "      The space complexity is O(max(m, n)) as well since the size of the result list can be at most max(m, n) + 1 digits."
   ]
  },
  {
   "cell_type": "markdown",
   "metadata": {},
   "source": [
    "### **Question 4**\n",
    "Given a string s, reverse the order of characters in each word within a sentence while still preserving whitespace and initial word order.\n",
    "\n",
    "### **Example:**\n",
    "\n",
    "**Input:** s = \"Let's take LeetCode contest\"    \n",
    "**Output:** \"s'teL ekat edoCteeL tsetnoc\"\n",
    "\n",
    "</aside>"
   ]
  },
  {
   "cell_type": "markdown",
   "metadata": {},
   "source": [
    "### Algorithm:\n",
    "1. The algorithm first splits the input string s into individual words using the split() method, which splits the string by whitespace. The result is a list of words.\n",
    "2. Next, it reverses each word in the list using a list comprehension and the [::-1] slice notation, which reverses the characters in each word.\n",
    "3. Finally, it joins the reversed words back together into a single string using the join() method, passing a whitespace ' ' as the separator."
   ]
  },
  {
   "cell_type": "code",
   "execution_count": 44,
   "metadata": {},
   "outputs": [
    {
     "name": "stdout",
     "output_type": "stream",
     "text": [
      "s'teL edoc dna evah !nuf\n"
     ]
    }
   ],
   "source": [
    "def reverseWords(s):\n",
    "    words = s.split()\n",
    "    reversed_words = []\n",
    "\n",
    "    for word in words:\n",
    "        reversed_word = word[::-1]\n",
    "        reversed_words.append(reversed_word)\n",
    "\n",
    "    result = ' '.join(reversed_words)\n",
    "    return result\n",
    "\n",
    "\n",
    "s = \"Let's code and have fun!\"\n",
    "result = reverseWords(s)\n",
    "print(result)"
   ]
  },
  {
   "cell_type": "markdown",
   "metadata": {},
   "source": [
    "### Complexity analysis:\n",
    "In this case:\n",
    "    The time complexity of this algorithm is O(n), where n is the length of the input string s. The algorithm performs the splitting and joining operations in linear time.    \n",
    "    The space complexity is O(n) as well since the reversed words are stored in a list of the same length as the input string."
   ]
  },
  {
   "cell_type": "markdown",
   "metadata": {},
   "source": [
    "### **Question 5**\n",
    "\n",
    "Given a string s and an integer k, reverse the first k characters for every 2k characters counting from the start of the string.\n",
    "If there are fewer than k characters left, reverse all of them. If there are less than 2k but greater than or equal to k characters, then reverse the first k characters and leave the other as original.\n",
    "\n",
    "**Example 1:**\n",
    "**Input:** s = \"abcdefg\", k = 2\n",
    "**Output:** \"bacdfeg\""
   ]
  },
  {
   "cell_type": "markdown",
   "metadata": {},
   "source": [
    "### Algorithm:\n",
    "1. The algorithm starts by converting the input string s into a list of characters for easier manipulation.\n",
    "2. It then iterates through the string with a step size of 2k, starting from 0. In each iteration, it defines the indices left and right to denote the range of characters to be reversed.\n",
    "3. Within this range, the algorithm uses a two-pointer approach to swap the characters at left and right, moving towards the center until the pointers meet.\n",
    "4. After the loop completes, the algorithm joins the characters back into a single string using the join() method and returns the result."
   ]
  },
  {
   "cell_type": "code",
   "execution_count": 14,
   "metadata": {},
   "outputs": [
    {
     "name": "stdout",
     "output_type": "stream",
     "text": [
      "bacdfeg\n"
     ]
    }
   ],
   "source": [
    "def reverseStr(s, k):\n",
    "    result = list(s)  # Convert string to list of characters for easy manipulation\n",
    "\n",
    "    for i in range(0, len(result), 2*k):\n",
    "        left = i\n",
    "        right = min(i + k - 1, len(result) - 1)  # Ensure not to go out of bounds\n",
    "\n",
    "        while left < right:\n",
    "            result[left], result[right] = result[right], result[left]\n",
    "            left += 1\n",
    "            right -= 1\n",
    "\n",
    "    return ''.join(result)\n",
    "\n",
    "### Example:\n",
    "s = \"abcdefg\"\n",
    "k = 2\n",
    "print(reverseStr(s, k))"
   ]
  },
  {
   "cell_type": "markdown",
   "metadata": {},
   "source": [
    "### Complexity analysis:\n",
    "In this case:   \n",
    "      The time complexity of this algorithm is O(n), where n is the length of the input string s. The algorithm iterates through the string once, performing swaps only on the segments that need reversing.    \n",
    "      The space complexity is O(n) since the characters are stored in a list of the same length as the input string."
   ]
  },
  {
   "cell_type": "markdown",
   "metadata": {},
   "source": [
    "### **Question 6**\n",
    "\n",
    "Given two strings s and goal, return true *if and only if* s *can become* goal *after some number of **shifts** on* s.\n",
    "A **shift** on s consists of moving the leftmost character of s to the rightmost position.\n",
    "  - For example, if s = \"abcde\", then it will be \"bcdea\" after one shift.\n",
    "\n",
    "### **Example:**\n",
    "\n",
    "**Input:** s = \"abcde\", goal = \"cdeab\"\n",
    "**Output:** true"
   ]
  },
  {
   "cell_type": "markdown",
   "metadata": {},
   "source": [
    "### Algorithm:\n",
    "1. The algorithm first checks if the lengths of s and goal are different. If they are, it means s cannot be transformed into goal through any number of shifts, so the algorithm returns False.\n",
    "\n",
    "2. If the lengths are the same, the algorithm concatenates s with itself into the variable concatenated. By doing this, all possible shifts of s are represented as substrings in concatenated.\n",
    "\n",
    "3. Finally, the algorithm checks if goal is a substring of concatenated. If it is, it means s can become goal after some number of shifts, and the algorithm returns True. Otherwise, it returns False."
   ]
  },
  {
   "cell_type": "code",
   "execution_count": 15,
   "metadata": {},
   "outputs": [
    {
     "name": "stdout",
     "output_type": "stream",
     "text": [
      "True\n",
      "False\n"
     ]
    }
   ],
   "source": [
    "def rotateString(s, goal):\n",
    "    if len(s) != len(goal):\n",
    "        return False\n",
    "\n",
    "    double_s = s + s\n",
    "    if goal in double_s:\n",
    "        return True\n",
    "\n",
    "    return False\n",
    "\n",
    "### Examples\n",
    "s = \"abcde\"\n",
    "goal = \"cdeab\"\n",
    "result = rotateString(s, goal)\n",
    "print(result) \n",
    "\n",
    "s = \"abcde\"\n",
    "goal = \"deacb\"\n",
    "result = rotateString(s, goal)\n",
    "print(result) "
   ]
  },
  {
   "cell_type": "markdown",
   "metadata": {},
   "source": [
    "### Complexity analysis:\n",
    "In this case:\n",
    "     The time complexity of this algorithm is O(n), where n is the length of s and goal. The concatenation operation takes linear time. The substring search operation also takes linear time on average due to the use of efficient string search algorithms like KMP or Boyer-Moore.     \n",
    "     The space complexity is O(n) since the concatenated string has a length of 2n."
   ]
  },
  {
   "cell_type": "markdown",
   "metadata": {},
   "source": [
    "### **Question 7**\n",
    "\n",
    "Given two strings s and t, return true *if they are equal when both are typed into empty text editors*. '#' means a backspace character.\n",
    "Note that after backspacing an empty text, the text will continue empty.\n",
    "\n",
    "### **Example:**\n",
    "\n",
    "**Input:** s = \"ab#c\", t = \"ad#c\"\n",
    "**Output:** true\n",
    "**Explanation:** Both s and t become \"ac\"."
   ]
  },
  {
   "cell_type": "markdown",
   "metadata": {},
   "source": [
    "### Algorithm:\n",
    "The algorithm defines a helper function build_string that takes a string and simulates the typing process to build the resulting string without the backspace characters.\n",
    "\n",
    "The helper function iterates through each character in the input string. If the character is not a backspace ('#'), it appends it to the result list. If the character is a backspace and there are characters in the result list, it removes the last character from the result list.\n",
    "\n",
    "Finally, the helper function returns the joined result list as a string.\n",
    "\n",
    "The main function compares the resulting strings of s and t by calling the build_string function for both and checking if the resulting strings are equal."
   ]
  },
  {
   "cell_type": "code",
   "execution_count": 47,
   "metadata": {},
   "outputs": [
    {
     "name": "stdout",
     "output_type": "stream",
     "text": [
      "True\n"
     ]
    }
   ],
   "source": [
    "def backspaceCompare(s, t):\n",
    "    processed_s = processString(s)\n",
    "    processed_t = processString(t)\n",
    "\n",
    "    return processed_s == processed_t\n",
    "\n",
    "def processString(string):\n",
    "    stack = []\n",
    "    for char in string:\n",
    "        if char != '#':\n",
    "            stack.append(char)\n",
    "        elif stack:\n",
    "            stack.pop()\n",
    "    return ''.join(stack)\n",
    "\n",
    "### Example\n",
    "s = \"ab#c\"\n",
    "t = \"ad#c\"\n",
    "result = backspaceCompare(s, t)\n",
    "print(result)"
   ]
  },
  {
   "cell_type": "markdown",
   "metadata": {},
   "source": [
    "### Complexity analysis:\n",
    "In this case:   \n",
    "    The time complexity of this algorithm is O(m + n), where m and n are the lengths of s and t respectively. The algorithm iterates through each character in both strings once.    \n",
    "    The space complexity is O(m + n) since the resulting strings are stored in lists during the typing simulation."
   ]
  },
  {
   "cell_type": "markdown",
   "metadata": {},
   "source": [
    "### **Question 8**\n",
    "You are given an array coordinates, coordinates[i] = [x, y], where [x, y] represents the coordinate of a point. Check if these points make a straight line in the XY plane.\n",
    "\n",
    "### **Example:**\n",
    "**Input:** coordinates = [[1,2],[2,3],[3,4],[4,5],[5,6],[6,7]]\n",
    "**Output:** true"
   ]
  },
  {
   "cell_type": "markdown",
   "metadata": {},
   "source": [
    "### Algorithm:\n",
    "1. The algorithm first handles the case where the number of coordinates is less than or equal to 2. In such cases, there are only two points, and any two points can form a straight line. Therefore, the algorithm returns True immediately.\n",
    "\n",
    "2. For cases with more than two points, the algorithm extracts the x and y coordinates of the first two points, x0, y0, x1, y1, respectively.\n",
    "\n",
    "3. Then, it iterates through the remaining points from index 2 to the end of the coordinates list. For each point at index i, with coordinates x and y, the algorithm checks if the slope between the previous two points (x1, y1) and (x0, y0) is equal to the slope between (x1, y1) and (x, y).\n",
    "\n",
    "4. If the slopes are not equal, it means the points do not lie on the same straight line, and the algorithm returns False.\n",
    "\n",
    "5. If the loop completes without finding any unequal slopes, the algorithm returns True, indicating that all the points lie on the same straight line."
   ]
  },
  {
   "cell_type": "code",
   "execution_count": 49,
   "metadata": {},
   "outputs": [
    {
     "name": "stdout",
     "output_type": "stream",
     "text": [
      "False\n",
      "False\n"
     ]
    }
   ],
   "source": [
    "def checkStraightLine(coordinates):\n",
    "    if len(coordinates) <= 2:\n",
    "        return True\n",
    "\n",
    "    x0, y0 = coordinates[0]\n",
    "    x1, y1 = coordinates[1]\n",
    "    for i in range(2, len(coordinates)):\n",
    "        x, y = coordinates[i]\n",
    "        if (y1 - y0) * (x - x0) != (x1 - x0) * (y - y0):\n",
    "            return False\n",
    "\n",
    "    return True\n",
    "\n",
    "\n",
    "coordinates = [[1,1],[2,2],[3,4],[4,5],[5,6],[7,7]]\n",
    "result = checkStraightLine(coordinates)\n",
    "print(result) \n",
    "\n",
    "coordinates = [[1,2],[2,3],[3,4],[4,5],[5,6],[7,7]]\n",
    "result = checkStraightLine(coordinates)\n",
    "print(result)  "
   ]
  },
  {
   "cell_type": "markdown",
   "metadata": {},
   "source": [
    "### complexity analysis:\n",
    "In this case:   \n",
    "    The time complexity of this algorithm is O(n), where n is the number of coordinates in the input. The algorithm iterates through the coordinates once to calculate the slopes.    \n",
    "    The space complexity is O(1) since the algorithm uses a constant amount of additional space to store the x and y coordinates."
   ]
  },
  {
   "cell_type": "code",
   "execution_count": null,
   "metadata": {},
   "outputs": [],
   "source": []
  }
 ],
 "metadata": {
  "kernelspec": {
   "display_name": "Python 3 (ipykernel)",
   "language": "python",
   "name": "python3"
  },
  "language_info": {
   "codemirror_mode": {
    "name": "ipython",
    "version": 3
   },
   "file_extension": ".py",
   "mimetype": "text/x-python",
   "name": "python",
   "nbconvert_exporter": "python",
   "pygments_lexer": "ipython3",
   "version": "3.9.12"
  }
 },
 "nbformat": 4,
 "nbformat_minor": 2
}
