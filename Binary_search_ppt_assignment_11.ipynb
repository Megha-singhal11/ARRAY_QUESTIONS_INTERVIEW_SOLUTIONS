{
 "cells": [
  {
   "cell_type": "markdown",
   "id": "4b2ead04",
   "metadata": {},
   "source": [
    "### **Q.1.** Given a non-negative integer `x`, return *the square root of* `x` *rounded down to the nearest integer*. The returned integer should be **non-negative** as well.\n",
    "\n",
    "You **must not use** any built-in exponent function or operator.\n",
    "- For example, do not use `pow(x, 0.5)` in c++ or `x ** 0.5` in python.\n",
    "\n",
    "### **Example 1:**\n",
    "```\n",
    "Input: x = 4\n",
    "Output: 2\n",
    "Explanation: The square root of 4 is 2, so we return 2.\n",
    "```\n",
    "\n",
    "### **Example 2:**\n",
    "    \n",
    "```\n",
    "Input: x = 8\n",
    "Output: 2\n",
    "Explanation: The square root of 8 is 2.82842..., and since we round it down to the nearest integer, 2 is returned.\n",
    "```"
   ]
  },
  {
   "cell_type": "markdown",
   "id": "020c92eb",
   "metadata": {},
   "source": [
    "### Algorithm:\n",
    "The algorithm works by setting the left and right boundaries of the search range, initially from 1 to x. Then, it repeatedly calculates the midpoint of the range and checks if the square of the midpoint is equal to x, less than x, or greater than x. Based on the comparison, it adjusts the boundaries accordingly and continues the binary search until it finds the square root or reaches the end of the range."
   ]
  },
  {
   "cell_type": "code",
   "execution_count": 1,
   "id": "043013a5",
   "metadata": {},
   "outputs": [
    {
     "name": "stdout",
     "output_type": "stream",
     "text": [
      "2\n",
      "2\n",
      "4\n"
     ]
    }
   ],
   "source": [
    "def square_root(x):\n",
    "    \n",
    "    if x == 0 or x == 1:\n",
    "        return x\n",
    "    \n",
    "    low = 0\n",
    "    high = x\n",
    "    ans = 0\n",
    "    \n",
    "    while low <= high:\n",
    "        mid = (low + high) // 2\n",
    "        \n",
    "        if mid * mid == x:\n",
    "            return mid\n",
    "        \n",
    "        elif mid * mid < x:\n",
    "            low = mid + 1\n",
    "            ans = mid\n",
    "        \n",
    "        else:\n",
    "            high = mid - 1\n",
    "    return ans\n",
    "\n",
    "### Examples\n",
    "print(square_root(4))\n",
    "print(square_root(8))\n",
    "print(square_root(16))"
   ]
  },
  {
   "cell_type": "markdown",
   "id": "6d18a842",
   "metadata": {},
   "source": [
    "### Complexity\n",
    "In this case:\n",
    "    The time complexity of this algorithm is O(log x) because it performs a **binary search** on a range from 1 to x.    \n",
    "    The space complexity is O(1) since it uses only a constant amount of additional space."
   ]
  },
  {
   "cell_type": "markdown",
   "id": "af42c935",
   "metadata": {},
   "source": [
    "### **Q.2.** A peak element is an element that is strictly greater than its neighbors.\n",
    "\n",
    "Given a **0-indexed** integer array `nums`, find a peak element, and return its index. If the array contains multiple peaks, return the index to **any of the peaks**.\n",
    "\n",
    "You may imagine that `nums[-1] = nums[n] = -∞`. In other words, an element is always considered to be strictly greater than a neighbor that is outside the array.\n",
    "\n",
    "You must write an algorithm that runs in `O(log n)` time.\n",
    "\n",
    "### **Example 1:**\n",
    "\n",
    "```\n",
    "Input: nums = [1,2,3,1]\n",
    "Output: 2\n",
    "Explanation: 3 is a peak element and your function should return the index number 2.\n",
    "```\n",
    "\n",
    "### **Example 2:**\n",
    "    \n",
    "```\n",
    "Input: nums = [1,2,1,3,5,6,4]\n",
    "Output: 5\n",
    "Explanation: Your function can return either index number 1 where the peak element is 2, or index number 5 where the peak element is 6.\n",
    "```"
   ]
  },
  {
   "cell_type": "markdown",
   "id": "830b69a3",
   "metadata": {},
   "source": [
    "### Algorithm\n",
    "The algorithm works by continuously narrowing down the search range until it finds a peak element. Initially, the left pointer is set to 0, and the right pointer is set to the last index of the array. In each iteration of the while loop, it calculates the midpoint mid using the formula left + (right - left) // 2.\n",
    "\n",
    "If the value at nums[mid] is less than the value at nums[mid + 1], it means there is a higher value to the right of mid. Therefore, the peak element must exist on the right side of mid, so we update the left pointer to mid + 1.\n",
    "\n",
    "Otherwise, if the value at nums[mid] is greater than or equal to the value at nums[mid + 1], it means there is a decreasing slope to the right of mid, indicating the presence of a peak element on the left side. In this case, we update the right pointer to mid, including the current mid as a potential peak element.\n",
    "\n",
    "The algorithm continues until the left and right pointers converge, and the left pointer will be pointing to a peak element."
   ]
  },
  {
   "cell_type": "code",
   "execution_count": 2,
   "id": "a00964cd",
   "metadata": {},
   "outputs": [
    {
     "name": "stdout",
     "output_type": "stream",
     "text": [
      "2\n",
      "5\n"
     ]
    }
   ],
   "source": [
    "def find_peak_element(nums):\n",
    "    \n",
    "    if not nums:\n",
    "        return -1\n",
    "    \n",
    "    if len(nums) == 1:\n",
    "        return 0\n",
    "    \n",
    "    low = 0\n",
    "    high = len(nums) - 1\n",
    "    \n",
    "    while low < high:\n",
    "        mid = (low + high) // 2\n",
    "        \n",
    "        if nums[mid] > nums[mid + 1] and nums[mid] > nums[mid - 1]:\n",
    "            return mid\n",
    "        \n",
    "        elif nums[mid] < nums[mid + 1]:\n",
    "            low = mid + 1\n",
    "            \n",
    "        else:\n",
    "            high = mid - 1\n",
    "    return low\n",
    "\n",
    "### Examples\n",
    "print(find_peak_element([1,2,3,1]))\n",
    "print(find_peak_element([1,2,1,3,5,6,4]))"
   ]
  },
  {
   "cell_type": "markdown",
   "id": "4ee5d211",
   "metadata": {},
   "source": [
    "### Complexity\n",
    "In this case:\n",
    "    The time complexity of this algorithm is O(log n) because the search range is halved in each iteration.    \n",
    "    The space complexity is O(1) since it uses only a constant amount of additional space."
   ]
  },
  {
   "cell_type": "markdown",
   "id": "8bca5c6d",
   "metadata": {},
   "source": [
    "### **Q.3.** Given an array `nums` containing `n` distinct numbers in the range `[0, n]`, return *the only number in the range that is missing from the array.*\n",
    "\n",
    "### **Example 1:**\n",
    "\n",
    "```\n",
    "Input: nums = [3,0,1]\n",
    "Output: 2\n",
    "Explanation: n = 3 since there are 3 numbers, so all numbers are in the range [0,3]. 2 is the missing number in the range since it does not appear in nums.\n",
    "\n",
    "```\n",
    "\n",
    "### **Example 2:**\n",
    "\n",
    "```\n",
    "Input: nums = [0,1]\n",
    "Output: 2\n",
    "Explanation: n = 2 since there are 2 numbers, so all numbers are in the range [0,2]. 2 is the missing number in the range since it does not appear in nums.\n",
    "\n",
    "```\n",
    "\n",
    "### **Example 3:**\n",
    "\n",
    "```\n",
    "Input: nums = [9,6,4,2,3,5,7,0,1]\n",
    "Output: 8\n",
    "Explanation: n = 9 since there are 9 numbers, so all numbers are in the range [0,9]. 8 is the missing number in the range since it does not appear in nums.\n",
    "```"
   ]
  },
  {
   "cell_type": "markdown",
   "id": "f491a9a3",
   "metadata": {},
   "source": [
    "### Algorithm:\n",
    "The algorithm takes advantage of the XOR operation's properties. We initialize the variable missing with the value n, which is the potential missing number in the range [0, n]. Then, we iterate over the array nums and perform the XOR operation between missing, the current index i, and the current value nums[i]. By doing this, the XOR operation cancels out the matching indices and values, leaving only the missing number in the end."
   ]
  },
  {
   "cell_type": "markdown",
   "id": "4d8ac009",
   "metadata": {},
   "source": [
    "### Explanation:   \n",
    "**For example, let's consider nums = [3, 0, 1]:**\n",
    "\n",
    "Initialize missing = 3\n",
    "In the first iteration, missing = 3 ^ 0 ^ 3 = 0\n",
    "In the second iteration, missing = 0 ^ 1 ^ 0 = 1\n",
    "In the third iteration, missing = 1 ^ 2 ^ 1 = 2"
   ]
  },
  {
   "cell_type": "code",
   "execution_count": 4,
   "id": "fef7eb69",
   "metadata": {},
   "outputs": [
    {
     "name": "stdout",
     "output_type": "stream",
     "text": [
      "2\n",
      "2\n",
      "8\n"
     ]
    }
   ],
   "source": [
    "def missing_number(nums):\n",
    "    \n",
    "    n = len(nums)\n",
    "    expected_sum = n * (n + 1) // 2\n",
    "    actual_sum = sum(nums)\n",
    "    return expected_sum - actual_sum\n",
    "\n",
    "nums = [3, 0, 1]\n",
    "print(missing_number(nums))\n",
    "\n",
    "nums = [0,1]\n",
    "print(missing_number(nums))\n",
    "\n",
    "nums = [9,6,4,2,3,5,7,0,1]\n",
    "print(missing_number(nums))"
   ]
  },
  {
   "cell_type": "markdown",
   "id": "b1552836",
   "metadata": {},
   "source": [
    "### Complexity\n",
    "In this case:\n",
    "    The time complexity of this algorithm is O(n) since it iterates over the array once.    \n",
    "    The space complexity is O(1) since it uses only a constant amount of additional space."
   ]
  },
  {
   "cell_type": "markdown",
   "id": "915d85e7",
   "metadata": {},
   "source": [
    "### **Q.4.** Given an array of integers `nums` containing `n + 1` integers where each integer is in the range `[1, n]` inclusive.\n",
    "\n",
    "There is only **one repeated number** in `nums`, return *this repeated number*.\n",
    "You must solve the problem **without** modifying the array `nums` and uses only constant extra space.\n",
    "\n",
    "### **Example 1:**\n",
    "\n",
    "```\n",
    "Input: nums = [1,3,4,2,2]\n",
    "Output: 2\n",
    "\n",
    "```\n",
    "\n",
    "### **Example 2:**\n",
    "    \n",
    "```\n",
    "Input: nums = [3,1,3,4,2]\n",
    "Output: 3\n",
    "\n",
    "```"
   ]
  },
  {
   "cell_type": "markdown",
   "id": "ad22708a",
   "metadata": {},
   "source": [
    "### APPROACH: Floyd's Tortoise and Hare algorithm (also known as the \"Cycle Detection\" algorithm)\n",
    "\n",
    "### Algorithm:\n",
    "The algorithm works by treating the array as a linked list, where the values of the array represent the indices to which they point. In this case, since there is a repeated number, there will be a cycle in the linked list.\n",
    "\n",
    "The algorithm consists of two phases:\n",
    "\n",
    "**Phase 1:**\n",
    "\n",
    "We use two pointers, slow and fast, both initially pointing to the first element of the array.\n",
    "slow moves one step at a time (nums[slow]), and fast moves two steps at a time (nums[nums[fast]]).\n",
    "We continue this process until slow and fast meet at a certain index within the cycle (the intersection point).    \n",
    "\n",
    "**Phase 2:**\n",
    "\n",
    "We reset slow to the first element of the array and keep fast at the intersection point found in Phase 1.\n",
    "Both slow and fast now move one step at a time.\n",
    "Eventually, they will meet again, but this time at the entrance to the cycle.\n",
    "The value at the meeting point is the repeated number."
   ]
  },
  {
   "cell_type": "code",
   "execution_count": 2,
   "id": "9b16e251",
   "metadata": {},
   "outputs": [
    {
     "name": "stdout",
     "output_type": "stream",
     "text": [
      "2\n",
      "3\n"
     ]
    }
   ],
   "source": [
    "def find_duplicate(nums):\n",
    " # Phase 1: Detect the intersection point of the two runners   \n",
    "    slow = fast = nums[0]\n",
    "    \n",
    "    while True:\n",
    "        slow = nums[slow]\n",
    "        fast = nums[nums[fast]]\n",
    "        \n",
    "        if slow == fast:\n",
    "            break\n",
    "            \n",
    " # Phase 2: Find the \"entrance\" to the cycle            \n",
    "    finder = nums[0]\n",
    "    \n",
    "    while finder != slow:\n",
    "        finder = nums[finder]\n",
    "        slow = nums[slow]\n",
    "    return finder\n",
    "\n",
    "nums = [1, 3, 4, 2, 2]\n",
    "print(find_duplicate(nums))\n",
    "\n",
    "nums = [3,1,3,4,2]\n",
    "print(find_duplicate(nums))"
   ]
  },
  {
   "cell_type": "markdown",
   "id": "00799ebd",
   "metadata": {},
   "source": [
    "### Complexity\n",
    "In this case:\n",
    "    The time complexity of this algorithm is O(n) since both phases take linear time.    \n",
    "    The space complexity is O(1) as it uses only a constant amount of extra space."
   ]
  },
  {
   "cell_type": "markdown",
   "id": "d120edfe",
   "metadata": {},
   "source": [
    "### **Q.5.** Given two integer arrays `nums1` and `nums2`, return *an array of their intersection*. Each element in the result must be **unique** and you may return the result in **any order**.\n",
    "\n",
    "### **Example 1:**\n",
    "\n",
    "```\n",
    "Input: nums1 = [1,2,2,1], nums2 = [2,2]\n",
    "Output: [2]\n",
    "\n",
    "```\n",
    "\n",
    "### **Example 2:**\n",
    "    \n",
    "```\n",
    "Input: nums1 = [4,9,5], nums2 = [9,4,9,8,4]\n",
    "Output: [9,4]\n",
    "Explanation: [4,9] is also accepted.\n",
    "\n",
    "```"
   ]
  },
  {
   "cell_type": "markdown",
   "id": "e5c7831f",
   "metadata": {},
   "source": [
    "### APPROACH:\n",
    "To solve this problem, we can use a set to keep track of the unique elements in the first array (nums1), and then loop through the second array (nums2) to check if each element is in the set. If it is, we add it to our result set. Finally, we convert the result set back to a list and return it."
   ]
  },
  {
   "cell_type": "code",
   "execution_count": 10,
   "id": "9018e1f1",
   "metadata": {},
   "outputs": [
    {
     "name": "stdout",
     "output_type": "stream",
     "text": [
      "[2]\n",
      "[9, 4]\n"
     ]
    }
   ],
   "source": [
    "def intersection(nums1,nums2):\n",
    "        # Convert nums1 to set\n",
    "        nums1_set = set(nums1)\n",
    "        # Create a set to store the intersection\n",
    "        intersection_set = set()\n",
    "        # Loop through nums2 and check if each element is in nums1_set\n",
    "        for num in nums2:\n",
    "            if num in nums1_set:\n",
    "                intersection_set.add(num)\n",
    "        # Convert the intersection set back to a list and return\n",
    "        return list(intersection_set)\n",
    "    \n",
    "nums1 = [1, 2, 2, 1]\n",
    "nums2 = [2, 2]\n",
    "print(intersection(nums1, nums2))\n",
    "\n",
    "nums1 = [4,9,5]\n",
    "nums2 = [9,4,9,8,4]\n",
    "print(intersection(nums1,nums2))"
   ]
  },
  {
   "cell_type": "markdown",
   "id": "13febabe",
   "metadata": {},
   "source": [
    "### Complexity\n",
    "In this case:\n",
    "    Time complexity: O(n+m), where n and m are the lengths of nums1 and nums2 respectively. \n",
    "    Space complexity: O(min(n,m)), where n and m are the lengths of nums1 and nums2 respectively."
   ]
  },
  {
   "cell_type": "markdown",
   "id": "292b05af",
   "metadata": {},
   "source": [
    "### **Q.6.** Suppose an array of length `n` sorted in ascending order is **rotated** between `1` and `n` times. For example, the array `nums = [0,1,2,4,5,6,7]` might become:\n",
    "\n",
    "- `[4,5,6,7,0,1,2]` if it was rotated `4` times.\n",
    "- `[0,1,2,4,5,6,7]` if it was rotated `7` times.\n",
    "\n",
    "Notice that **rotating** an array `[a[0], a[1], a[2], ..., a[n-1]]` 1 time results in the array `[a[n-1], a[0], a[1], a[2], ..., a[n-2]]`.\n",
    "\n",
    "Given the sorted rotated array `nums` of **unique** elements, return *the minimum element of this array*.\n",
    "You must write an algorithm that runs in `O(log n) time.`\n",
    "\n",
    "### **Example 1:**\n",
    "\n",
    "```\n",
    "Input: nums = [3,4,5,1,2]\n",
    "Output: 1\n",
    "Explanation: The original array was [1,2,3,4,5] rotated 3 times.\n",
    "\n",
    "```\n",
    "\n",
    "### **Example 2:**\n",
    "    \n",
    "```\n",
    "Input: nums = [4,5,6,7,0,1,2]\n",
    "Output: 0\n",
    "Explanation: The original array was [0,1,2,4,5,6,7] and it was rotated 4 times.\n",
    "\n",
    "```\n",
    "\n",
    "### **Example 3:**\n",
    "    \n",
    "```\n",
    "Input: nums = [11,13,15,17]\n",
    "Output: 11\n",
    "Explanation: The original array was [11,13,15,17] and it was rotated 4 times.\n",
    "\n",
    "```"
   ]
  },
  {
   "cell_type": "markdown",
   "id": "2fe2d7f1",
   "metadata": {},
   "source": [
    "### APPROACH: Modified Binary search algorithm\n",
    "\n",
    "### Algorithm:\n",
    "The algorithm works by continuously narrowing down the search range until it finds the minimum element. Initially, the left pointer is set to 0, and the right pointer is set to the last index of the array. In each iteration of the while loop, it calculates the midpoint mid using the formula left + (right - left) // 2.\n",
    "\n",
    "If the value at nums[mid] is greater than the value at nums[right], it means the minimum element is on the right side of mid, so we update the left pointer to mid + 1.\n",
    "\n",
    "Otherwise, if the value at nums[mid] is less than or equal to the value at nums[right], it means the minimum element is on the left side of mid or mid itself is the minimum element. In this case, we update the right pointer to mid, including the current mid as a potential minimum element.\n",
    "\n",
    "The algorithm continues until the left and right pointers converge, and the left pointer will be pointing to the minimum element."
   ]
  },
  {
   "cell_type": "code",
   "execution_count": 12,
   "id": "76a493fc",
   "metadata": {},
   "outputs": [
    {
     "name": "stdout",
     "output_type": "stream",
     "text": [
      "1\n",
      "0\n",
      "11\n"
     ]
    }
   ],
   "source": [
    "def find_min(nums):\n",
    "    \n",
    "    left = 0\n",
    "    right = len(nums) - 1\n",
    "    \n",
    "    while left < right:\n",
    "        mid = (left + right) // 2\n",
    "        \n",
    "        if nums[mid] < nums[right]:\n",
    "            right = mid\n",
    "            \n",
    "        else:\n",
    "            left = mid + 1\n",
    "            \n",
    "    return nums[left]\n",
    "\n",
    "nums = [3, 4, 5, 1, 2]\n",
    "print(find_min(nums))\n",
    "\n",
    "nums = [4,5,6,7,0,1,2]\n",
    "print(find_min(nums))\n",
    "\n",
    "nums = [11,13,15,17]\n",
    "print(find_min(nums))"
   ]
  },
  {
   "cell_type": "markdown",
   "id": "74d76e0a",
   "metadata": {},
   "source": [
    "### Complexity\n",
    "In this case:\n",
    "    The time complexity of this algorithm is O(log n) because the search range is halved in each iteration.   \n",
    "    The space complexity is O(1) as it uses only a constant amount of additional space."
   ]
  },
  {
   "cell_type": "markdown",
   "id": "be018445",
   "metadata": {},
   "source": [
    "### **Q.7.** Given an array of integers `nums` sorted in non-decreasing order, find the starting and ending position of a given `target` value.\n",
    "\n",
    "If `target` is not found in the array, return `[-1, -1]`.\n",
    "You must write an algorithm with `O(log n)` runtime complexity.\n",
    "\n",
    "### **Example 1:**\n",
    "\n",
    "```\n",
    "Input: nums = [5,7,7,8,8,10], target = 8\n",
    "Output: [3,4]\n",
    "\n",
    "```\n",
    "\n",
    "### **Example 2:**\n",
    "\n",
    "```\n",
    "Input: nums = [5,7,7,8,8,10], target = 6\n",
    "Output: [-1,-1]\n",
    "\n",
    "```\n",
    "\n",
    "### **Example 3:**\n",
    "    \n",
    "```\n",
    "Input: nums = [], target = 0\n",
    "Output: [-1,-1]\n",
    "    \n",
    "```"
   ]
  },
  {
   "cell_type": "markdown",
   "id": "bfd1f1e9",
   "metadata": {},
   "source": [
    "### Algorithm:\n",
    "The algorithm consists of two functions: **findLeftPosition and findRightPosition**.\n",
    "\n",
    "findLeftPosition finds the leftmost position of the target in the array. It performs a binary search by updating the left and right pointers based on whether the mid element is greater than or equal to the target. If the mid element is equal to the target, it updates the position variable. This function returns the leftmost position.\n",
    "\n",
    "findRightPosition finds the rightmost position of the target in the array. It also performs a binary search by updating the left and right pointers based on whether the mid element is less than or equal to the target. If the mid element is equal to the target, it updates the position variable. This function returns the rightmost position.\n",
    "\n",
    "The searchRange function calls both findLeftPosition and findRightPosition to get the starting and ending positions of the target value in the array, respectively."
   ]
  },
  {
   "cell_type": "code",
   "execution_count": 14,
   "id": "b157ae30",
   "metadata": {},
   "outputs": [
    {
     "name": "stdout",
     "output_type": "stream",
     "text": [
      "[-1, -1]\n",
      "[3, 4]\n",
      "[-1, -1]\n"
     ]
    }
   ],
   "source": [
    "def search_range(nums, target):\n",
    "    \n",
    "    result = [-1, -1]\n",
    "    left = 0\n",
    "    right = len(nums) - 1\n",
    "    \n",
    "    while left <= right:\n",
    "        mid = (left + right) // 2\n",
    "        \n",
    "        if nums[mid] == target:\n",
    "            result[0] = mid\n",
    "            right = mid - 1\n",
    "            \n",
    "        elif nums[mid] < target:\n",
    "            left = mid + 1\n",
    "            \n",
    "        else:\n",
    "            right = mid - 1\n",
    "            \n",
    "    left = 0\n",
    "    right = len(nums) - 1\n",
    "    \n",
    "    while left <= right:\n",
    "        mid = (left + right) // 2\n",
    "        \n",
    "        if nums[mid] == target:\n",
    "            result[1] = mid\n",
    "            left = mid + 1\n",
    "            \n",
    "        elif nums[mid] < target:\n",
    "            left = mid + 1\n",
    "            \n",
    "        else:\n",
    "            right = mid - 1\n",
    "    return result\n",
    "\n",
    "nums = [5,7,7,8,8,10]\n",
    "target = 6\n",
    "print(search_range(nums, target))\n",
    "\n",
    "Input: nums = [5,7,7,8,8,10]\n",
    "target = 8\n",
    "print(search_range(nums,target))\n",
    "\n",
    "Input: nums = []\n",
    "target = 0\n",
    "print(search_range(nums,target))"
   ]
  },
  {
   "cell_type": "markdown",
   "id": "4451e9e8",
   "metadata": {},
   "source": [
    "### Complexity:\n",
    "In this case:\n",
    "    The time complexity of this algorithm is O(log n) because both findLeftPosition and findRightPosition perform binary searches on the array, which reduces the search range by half in each iteration.     \n",
    "    The space complexity is O(1) since it uses only a constant amount of additional space."
   ]
  },
  {
   "cell_type": "markdown",
   "id": "76f52b4a",
   "metadata": {},
   "source": [
    "### **Q.8.** Given two integer arrays `nums1` and `nums2`, return *an array of their intersection*. Each element in the result must appear as many times as it shows in both arrays and you may return the result in **any order**.\n",
    "\n",
    "### **Example 1:**\n",
    "\n",
    "```\n",
    "Input: nums1 = [1,2,2,1], nums2 = [2,2]\n",
    "Output: [2,2]\n",
    "\n",
    "```\n",
    "\n",
    "### **Example 2:**\n",
    "    \n",
    "```\n",
    "Input: nums1 = [4,9,5], nums2 = [9,4,9,8,4]\n",
    "Output: [4,9]\n",
    "Explanation: [9,4] is also accepted.\n",
    "    \n",
    "```"
   ]
  },
  {
   "cell_type": "markdown",
   "id": "a257ca88",
   "metadata": {},
   "source": [
    "### Algorithm:\n",
    "The algorithm first creates two dictionaries, count1 and count2, using the Counter class from the collections module. These dictionaries store the count of each element in nums1 and nums2, respectively.\n",
    "\n",
    "Then, it initializes an empty list result to store the intersection elements.\n",
    "\n",
    "Next, it iterates over the elements in count1 and checks if the element exists in count2. If it does, it appends the element to result as many times as the minimum count between count1[num] and count2[num].\n",
    "\n",
    "Finally, it returns result, which contains the elements of the intersection."
   ]
  },
  {
   "cell_type": "code",
   "execution_count": 16,
   "id": "f3d8e2c0",
   "metadata": {},
   "outputs": [
    {
     "name": "stdout",
     "output_type": "stream",
     "text": [
      "[9, 4]\n",
      "[2, 2]\n"
     ]
    }
   ],
   "source": [
    "def intersect(nums1, nums2):\n",
    "    \n",
    "    result = []\n",
    "    count = {}\n",
    "    \n",
    "    for num in nums1:\n",
    "        if num in count:\n",
    "            count[num] += 1\n",
    "        \n",
    "        else:\n",
    "            count[num] = 1\n",
    "            \n",
    "    for num in nums2:\n",
    "        if num in count and count[num] > 0:\n",
    "            result.append(num)\n",
    "            count[num] -= 1\n",
    "    return result\n",
    "\n",
    "nums1 = [4,9,5]\n",
    "nums2 = [9,4,9,8,4]\n",
    "print(intersect(nums1, nums2))\n",
    "\n",
    "\n",
    "nums1 = [1,2,2,1]\n",
    "nums2 = [2,2]\n",
    "print(intersect(nums1, nums2))"
   ]
  },
  {
   "cell_type": "markdown",
   "id": "7b4e57cc",
   "metadata": {},
   "source": [
    "### Complexity\n",
    "In this case:\n",
    "    The time complexity of this algorithm is O(n + m), where n and m are the lengths of nums1 and nums2, respectively. The creation of the dictionaries takes linear time, and the iteration over the elements also takes linear time.    \n",
    "    The space complexity is O(min(n, m)) since the space used by the dictionaries depends on the smaller of the two input arrays."
   ]
  },
  {
   "cell_type": "code",
   "execution_count": null,
   "id": "c6166b25",
   "metadata": {},
   "outputs": [],
   "source": []
  }
 ],
 "metadata": {
  "kernelspec": {
   "display_name": "Python 3 (ipykernel)",
   "language": "python",
   "name": "python3"
  },
  "language_info": {
   "codemirror_mode": {
    "name": "ipython",
    "version": 3
   },
   "file_extension": ".py",
   "mimetype": "text/x-python",
   "name": "python",
   "nbconvert_exporter": "python",
   "pygments_lexer": "ipython3",
   "version": "3.9.12"
  }
 },
 "nbformat": 4,
 "nbformat_minor": 5
}
