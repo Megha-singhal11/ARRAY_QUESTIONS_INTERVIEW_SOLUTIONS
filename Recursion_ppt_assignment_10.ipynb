{
 "cells": [
  {
   "cell_type": "markdown",
   "id": "b2ec5e3a",
   "metadata": {},
   "source": [
    "### **Question 1** Given an integer `n`, return *`true` if it is a power of three. Otherwise, return `false`*. An integer `n` is a power of three, if there exists an integer `x` such that `n == 3x`.\n",
    "\n",
    "\n",
    "**Example 1:**\n",
    "\n",
    "```\n",
    "Input: n = 27\n",
    "Output: true\n",
    "Explanation: 27 = 33\n",
    "```\n",
    "\n",
    "**Example 2:**\n",
    "\n",
    "```\n",
    "Input: n = 0\n",
    "Output: false\n",
    "Explanation: There is no x where 3x = 0.\n",
    "\n",
    "```\n",
    "\n",
    "**Example 3:**\n",
    "\n",
    "```\n",
    "Input: n = -1\n",
    "Output: false\n",
    "Explanation: There is no x where 3x = (-1).\n",
    "```"
   ]
  },
  {
   "cell_type": "markdown",
   "id": "b6c00ead",
   "metadata": {},
   "source": [
    "### Algorithm:\n",
    "If n is equal to 1, return True as it is already a power of three.   \n",
    "If n is not divisible by 3 or equal to 0, return False.   \n",
    "Otherwise, recursively call the function with n divided by 3 (n // 3)."
   ]
  },
  {
   "cell_type": "code",
   "execution_count": 1,
   "id": "0af208d9",
   "metadata": {},
   "outputs": [
    {
     "name": "stdout",
     "output_type": "stream",
     "text": [
      "True\n"
     ]
    }
   ],
   "source": [
    "def isPowerOfThree(n):\n",
    "    if n == 1:\n",
    "        return True\n",
    "    elif n % 3 != 0 or n == 0:\n",
    "        return False\n",
    "    else:\n",
    "        return isPowerOfThree(n // 3)\n",
    "    \n",
    "print(isPowerOfThree(27))"
   ]
  },
  {
   "cell_type": "markdown",
   "id": "7947b319",
   "metadata": {},
   "source": [
    "### Complexity\n",
    "#### Time Complexity: \n",
    "The time complexity of the algorithm can be expressed as O(log3 n) since the function recursively divides n by 3 until the base case is reached.    \n",
    "\n",
    "#### Space Complexity: \n",
    "The space complexity is O(log3 n) as well, as each recursive call adds a new frame to the call stack."
   ]
  },
  {
   "cell_type": "markdown",
   "id": "d501f6df",
   "metadata": {},
   "source": [
    "### **Question 2** You have a list `arr` of all integers in the range `[1, n]` sorted in a strictly increasing order. Apply the following algorithm on `arr`:\n",
    "\n",
    "- Starting from left to right, remove the first number and every other number afterward until you reach the end of the list.\n",
    "- Repeat the previous step again, but this time from right to left, remove the rightmost number and every other number from the remaining numbers.\n",
    "- Keep repeating the steps again, alternating left to right and right to left, until a single number remains.\n",
    "\n",
    "Given the integer `n`, return *the last number that remains in* `arr`.\n",
    "\n",
    "**Example 1:**\n",
    "\n",
    "```\n",
    "Input: n = 9\n",
    "Output: 6\n",
    "Explanation:\n",
    "arr = [1, 2,3, 4,5, 6,7, 8,9]\n",
    "arr = [2,4, 6,8]\n",
    "arr = [2, 6]\n",
    "arr = [6]\n",
    "\n",
    "```\n",
    "\n",
    "**Example 2:**\n",
    "\n",
    "```\n",
    "Input: n = 1\n",
    "Output: 1\n",
    "```"
   ]
  },
  {
   "cell_type": "markdown",
   "id": "5a31432b",
   "metadata": {},
   "source": [
    "### Algorithm:\n",
    "If n is equal to 1, return 1 as it will be the last remaining number.   \n",
    "Otherwise, recursively call the function with the updated value of n and apply the elimination pattern.    \n",
    "Calculate the next value by subtracting the recursively called lastRemaining(n // 2) from n // 2 + 1.    \n",
    "Multiply the calculated value by 2 to get the current value.   \n",
    "Return the calculated value."
   ]
  },
  {
   "cell_type": "code",
   "execution_count": 2,
   "id": "0f1bba9f",
   "metadata": {},
   "outputs": [
    {
     "name": "stdout",
     "output_type": "stream",
     "text": [
      "6\n"
     ]
    }
   ],
   "source": [
    "def lastRemaining(n):\n",
    "    if n == 1:\n",
    "        return 1\n",
    "    else:\n",
    "        return 2 * (n // 2 + 1 - lastRemaining(n // 2))\n",
    "    \n",
    "print(lastRemaining(9))"
   ]
  },
  {
   "cell_type": "markdown",
   "id": "43c807f5",
   "metadata": {},
   "source": [
    "### Complexity:\n",
    "#### Time Complexity: \n",
    "The time complexity of the algorithm can be expressed as O(log n), as each recursive call reduces the value of n by half.\n",
    "\n",
    "#### Space Complexity: \n",
    "The space complexity is O(log n) as well, as each recursive call adds a new frame to the call stack."
   ]
  },
  {
   "cell_type": "markdown",
   "id": "3e860eb7",
   "metadata": {},
   "source": [
    "### **Question 3** Given a set represented as a string, write a recursive code to print all subsets of it. The subsets can be printed in any order.\n",
    "\n",
    "**Example 1:**\n",
    "\n",
    "Input :  set = “abc”\n",
    "\n",
    "Output : { “”, “a”, “b”, “c”, “ab”, “ac”, “bc”, “abc”}\n",
    "\n",
    "**Example 2:**\n",
    "\n",
    "Input : set = “abcd”\n",
    "\n",
    "Output : { “”, “a” ,”ab” ,”abc” ,”abcd”, “abd” ,”ac” ,”acd”, “ad” ,”b”, “bc” ,”bcd” ,”bd” ,”c” ,”cd” ,”d” }"
   ]
  },
  {
   "cell_type": "markdown",
   "id": "60e4f0d5",
   "metadata": {},
   "source": [
    "### Algorithm:\n",
    "1. Obtain the length of the string s and store it in n.\n",
    "2. Calculate the total number of subsets using the expression total_subsets = 1 << n, which is equivalent to 2^n.\n",
    "3. Iterate over the range of total_subsets to generate all possible subsets.\n",
    "4. For each iteration, create an empty string subset.\n",
    "5. Iterate over the range of n to check which elements should be included in the subset.\n",
    "6. Use bitwise AND operation to determine whether to include the element at index j in the subset.\n",
    "7. If the result of (i & (1 << j)) is not equal to zero, append the corresponding character from s to the subset string.\n",
    "8. Print the subset string."
   ]
  },
  {
   "cell_type": "code",
   "execution_count": 3,
   "id": "25852a3d",
   "metadata": {},
   "outputs": [
    {
     "name": "stdout",
     "output_type": "stream",
     "text": [
      "\n",
      "a\n",
      "b\n",
      "ab\n",
      "c\n",
      "ac\n",
      "bc\n",
      "abc\n",
      "d\n",
      "ad\n",
      "bd\n",
      "abd\n",
      "cd\n",
      "acd\n",
      "bcd\n",
      "abcd\n"
     ]
    }
   ],
   "source": [
    "def printSubsets(s):\n",
    "    n = len(s)\n",
    "    total_subsets = 1 << n  # Total number of subsets is 2^n\n",
    "\n",
    "    for i in range(total_subsets):\n",
    "        subset = \"\"\n",
    "        for j in range(n):\n",
    "            if (i & (1 << j)) != 0:\n",
    "                subset += s[j]\n",
    "        print(subset)\n",
    "        \n",
    "printSubsets(\"abcd\")"
   ]
  },
  {
   "cell_type": "markdown",
   "id": "8b38decf",
   "metadata": {},
   "source": [
    "### Complexity:\n",
    "#### Time Complexity: \n",
    "    The time complexity of the algorithm is O(2^n), as there are 2^n subsets of a given set of size n. The two nested loops iterate over the total number of subsets, which is 2^n.\n",
    "\n",
    "#### Space Complexity: \n",
    "    The space complexity is O(n) since the subset string grows as elements are added to it, but its length is limited to the size of the input string s."
   ]
  },
  {
   "cell_type": "markdown",
   "id": "ba8d5eef",
   "metadata": {},
   "source": [
    "### **Question 4** Given a string calculate length of the string using recursion.\n",
    "\n",
    "**Examples:**\n",
    "\n",
    "```\n",
    "Input : str = \"abcd\"\n",
    "Output :4\n",
    "\n",
    "Input : str = \"GEEKSFORGEEKS\"\n",
    "Output :13\n",
    "```"
   ]
  },
  {
   "cell_type": "code",
   "execution_count": 4,
   "id": "c02543f6",
   "metadata": {},
   "outputs": [
    {
     "name": "stdout",
     "output_type": "stream",
     "text": [
      "4\n"
     ]
    }
   ],
   "source": [
    "def Length(s):\n",
    "    if s == \"\":\n",
    "        return 0\n",
    "    else:\n",
    "        return 1 + Length(s[1:])\n",
    "    \n",
    "print(Length(\"abcd\")) "
   ]
  },
  {
   "cell_type": "markdown",
   "id": "c3a33ab6",
   "metadata": {},
   "source": [
    "### Complexity:\n",
    "#### Time Complexity:\n",
    "The time complexity of the algorithm can be expressed as O(n), where n is the length of the input string s. Each recursive call reduces the length of the string by 1 until it becomes an empty string.\n",
    "\n",
    "#### Space Complexity:\n",
    "The space complexity is O(n) due to the recursive calls. Each recursive call adds a new frame to the call stack, consuming space proportional to the length of the input string."
   ]
  },
  {
   "cell_type": "markdown",
   "id": "0c68a88e",
   "metadata": {},
   "source": [
    "### **Question 5**  We are given a string S, we need to find count of all contiguous substrings starting and ending with same character.\n",
    "\n",
    "**Examples :**\n",
    "\n",
    "```\n",
    "Input  : S = \"abcab\"\n",
    "Output : 7\n",
    "There are 15 substrings of \"abcab\"\n",
    "a, ab, abc, abca, abcab, b, bc, bca\n",
    "bcab, c, ca, cab, a, ab, b\n",
    "Out of the above substrings, there\n",
    "are 7 substrings : a, abca, b, bcab,\n",
    "c, a and b.\n",
    "\n",
    "Input  : S = \"aba\"\n",
    "Output : 4\n",
    "The substrings are a, b, a and aba\n",
    "```"
   ]
  },
  {
   "cell_type": "markdown",
   "id": "50deb065",
   "metadata": {},
   "source": [
    "### Algorithm:\n",
    "\n",
    "Define a helper function HelpFu that takes three parameters: start, end, and count.\n",
    "Check if the current substring represented by the indices start and end is a valid substring to process:\n",
    "If start is greater than or equal to end or if either start or end is out of the valid index range of S, return the current count.\n",
    "If the characters at positions start and end in the string S are equal, increment the count by 1.\n",
    "Recursively call HelpFu with the substring excluding the last character (by decrementing end) and update the count.\n",
    "Recursively call HelpFu with the substring excluding the first character (by incrementing start) and update the count.\n",
    "Return the final count from the HelpFu function.\n",
    "In the Substrings function, call the HelpFu function with initial parameters start = 0, end = len(S) - 1, and count = 0."
   ]
  },
  {
   "cell_type": "code",
   "execution_count": 5,
   "id": "c678a233",
   "metadata": {},
   "outputs": [
    {
     "name": "stdout",
     "output_type": "stream",
     "text": [
      "2\n"
     ]
    }
   ],
   "source": [
    "def Substrings(S):\n",
    "    def HelpFu(start, end, count):\n",
    "      \n",
    "        if start >= end or start < 0 or end >= len(S):\n",
    "            return count\n",
    "\n",
    "      \n",
    "        if S[start] == S[end]:\n",
    "            count += 1\n",
    "\n",
    "        \n",
    "        count = HelpFu(start, end - 1, count)\n",
    "        count = HelpFu(start + 1, end, count)\n",
    "\n",
    "        return count\n",
    "\n",
    "    return HelpFu(0, len(S) - 1, 0)\n",
    "\n",
    "print(Substrings(\"abcab\"))"
   ]
  },
  {
   "cell_type": "markdown",
   "id": "8ab4d63f",
   "metadata": {},
   "source": [
    "### Complexity:\n",
    "#### Time Complexity:  \n",
    "The time complexity of the algorithm depends on the number of recursive calls made. In the worst case, it can be exponential, approximately O(2^n), where n is the length of the input string S. Each recursive call splits the string into two substrings, resulting in a binary tree-like structure of recursive calls.\n",
    "\n",
    "#### Space Complexity: \n",
    "The space complexity is O(n) due to the recursive calls. Each recursive call adds a new frame to the call stack, consuming space proportional to the length of the input string."
   ]
  },
  {
   "cell_type": "markdown",
   "id": "54b7fdc9",
   "metadata": {},
   "source": [
    "### **Question 6** The [tower of Hanoi](https://en.wikipedia.org/wiki/Tower_of_Hanoi) is a famous puzzle where we have three rods and **N** disks. The objective of the puzzle is to move the entire stack to another rod. You are given the number of discs **N**. Initially, these discs are in the rod 1. You need to print all the steps of discs movement so that all the discs reach the 3rd rod. Also, you need to find the total moves.**Note:** The discs are arranged such that the **top disc is numbered 1** and the **bottom-most disc is numbered N**. Also, all the discs have **different sizes** and a bigger disc **cannot** be put on the top of a smaller disc. Refer the provided link to get a better clarity about the puzzle.\n",
    "\n",
    "**Example 1:**\n",
    "\n",
    "```\n",
    "Input:\n",
    "N = 2\n",
    "Output:\n",
    "move disk 1 from rod 1 to rod 2\n",
    "move disk 2 from rod 1 to rod 3\n",
    "move disk 1 from rod 2 to rod 3\n",
    "3\n",
    "Explanation:For N=2 , steps will be\n",
    "as follows in the example and total\n",
    "3 steps will be taken.\n",
    "```\n",
    "\n",
    "**Example 2:**\n",
    "\n",
    "```\n",
    "Input:\n",
    "N = 3\n",
    "Output:\n",
    "move disk 1 from rod 1 to rod 3\n",
    "move disk 2 from rod 1 to rod 2\n",
    "move disk 1 from rod 3 to rod 2\n",
    "move disk 3 from rod 1 to rod 3\n",
    "move disk 1 from rod 2 to rod 1\n",
    "move disk 2 from rod 2 to rod 3\n",
    "move disk 1 from rod 1 to rod 3\n",
    "7\n",
    "Explanation:For N=3 , steps will be\n",
    "as follows in the example and total\n",
    "7 steps will be taken.\n",
    "```"
   ]
  },
  {
   "cell_type": "code",
   "execution_count": 6,
   "id": "8f2d3861",
   "metadata": {},
   "outputs": [
    {
     "name": "stdout",
     "output_type": "stream",
     "text": [
      "move disk 1 from rod 1 to rod 2\n",
      "move disk 2 from rod 1 to rod 3\n",
      "move disk 1 from rod 2 to rod 3\n",
      "Total moves: 3\n"
     ]
    }
   ],
   "source": [
    "def towerOfHanoi(n, source, destination, auxiliary):\n",
    "    if n == 1:\n",
    "        print(\"move disk 1 from rod\", source, \"to rod\", destination)\n",
    "        return 1\n",
    "    else:\n",
    "        moves = 0\n",
    "        moves += towerOfHanoi(n - 1, source, auxiliary, destination)\n",
    "        print(\"move disk\", n, \"from rod\", source, \"to rod\", destination)\n",
    "        moves += 1\n",
    "        moves += towerOfHanoi(n - 1, auxiliary, destination, source)\n",
    "        return moves\n",
    "\n",
    "n = 2\n",
    "total_moves = towerOfHanoi(n, 1, 3, 2)\n",
    "print(\"Total moves:\", total_moves)"
   ]
  },
  {
   "cell_type": "markdown",
   "id": "b9387b04",
   "metadata": {},
   "source": [
    "### Complexity:\n",
    "\n",
    "     Time Complexity: The time complexity of the algorithm is O(2^n) since each recursive call results in two subsequent recursive calls, branching out exponentially.\n",
    "\n",
    "     Space Complexity: The space complexity is O(n) due to the recursive calls. Each recursive call adds a new frame to the call stack, consuming space proportional to the number of disks."
   ]
  },
  {
   "cell_type": "markdown",
   "id": "16dd4c0b",
   "metadata": {},
   "source": [
    "### **Question 7**  Given a string **str**, the task is to print all the permutations of **str**. A **permutation** is an arrangement of all or part of a set of objects, with regard to the order of the arrangement. For instance, the words ‘bat’ and ‘tab’ represents two distinct permutation (or arrangements) of a similar three letter word.\n",
    "\n",
    "**Examples:**\n",
    "\n",
    "> Input: str = “cd”\n",
    "> \n",
    "> \n",
    "> **Output:** cd dc\n",
    "> \n",
    "> **Input:** str = “abb”\n",
    "> \n",
    "> **Output:** abb abb bab bba bab bba"
   ]
  },
  {
   "cell_type": "code",
   "execution_count": 7,
   "id": "add6e823",
   "metadata": {},
   "outputs": [
    {
     "name": "stdout",
     "output_type": "stream",
     "text": [
      "abb\n",
      "abb\n",
      "bab\n",
      "bba\n",
      "bba\n",
      "bab\n"
     ]
    }
   ],
   "source": [
    "def permuteString(s, l, r):\n",
    "    if l == r:\n",
    "        print(\"\".join(s))\n",
    "    else:\n",
    "        for i in range(l, r + 1):\n",
    "            \n",
    "            s[l], s[i] = s[i], s[l]\n",
    "            \n",
    "            permuteString(s, l + 1, r)\n",
    "         \n",
    "            s[l], s[i] = s[i], s[l]\n",
    "\n",
    "str = \"abb\"\n",
    "n = len(str)\n",
    "s = list(str)\n",
    "permuteString(s, 0, n - 1)"
   ]
  },
  {
   "cell_type": "markdown",
   "id": "793d2130",
   "metadata": {},
   "source": [
    "### Complexity:\n",
    "    Time Complexity: The time complexity of the algorithm is O(n!), where n is the length of the input string s. This is because there are n! possible permutations of a string of length n.\n",
    "\n",
    "    Space Complexity: The space complexity is O(n), which accounts for the space used by the recursive call stack."
   ]
  },
  {
   "cell_type": "markdown",
   "id": "995aa4dc",
   "metadata": {},
   "source": [
    "### **Question 8**  Given a string, count total number of consonants in it. A consonant is an English alphabet character that is not vowel (a, e, i, o and u). Examples of constants are b, c, d, f, and g.\n",
    "\n",
    "**Examples :**\n",
    "\n",
    "```\n",
    "Input : abc de\n",
    "Output : 3\n",
    "There are three consonants b, c and d.\n",
    "\n",
    "Input : geeksforgeeks portal\n",
    "Output : 12\n",
    "```"
   ]
  },
  {
   "cell_type": "code",
   "execution_count": 8,
   "id": "3101df48",
   "metadata": {},
   "outputs": [
    {
     "data": {
      "text/plain": [
       "12"
      ]
     },
     "execution_count": 8,
     "metadata": {},
     "output_type": "execute_result"
    }
   ],
   "source": [
    "def countConsonants(s):\n",
    "   \n",
    "    if len(s) == 0:\n",
    "        return 0\n",
    "    \n",
    "   \n",
    "    s = s.lower()\n",
    "    \n",
    "  \n",
    "    if s[0].isalpha() and s[0] not in \"aeiou\":\n",
    "        return 1 + countConsonants(s[1:])\n",
    "    else:\n",
    "        return countConsonants(s[1:])\n",
    "\n",
    "\n",
    "s = \"geeksforgeeks portal\"\n",
    "\n",
    "\n",
    "countConsonants(s)"
   ]
  },
  {
   "cell_type": "markdown",
   "id": "f02bb132",
   "metadata": {},
   "source": [
    "### Complexity:\n",
    "    Time Complexity: The time complexity of the algorithm is O(n), where n is the length of the input string s. Each recursive call processes one character at a time.\n",
    "\n",
    "    Space Complexity: The space complexity is O(n) due to the recursive calls. Each recursive call adds a new frame to the call stack, consuming space proportional to the length of the input string."
   ]
  }
 ],
 "metadata": {
  "kernelspec": {
   "display_name": "Python 3 (ipykernel)",
   "language": "python",
   "name": "python3"
  },
  "language_info": {
   "codemirror_mode": {
    "name": "ipython",
    "version": 3
   },
   "file_extension": ".py",
   "mimetype": "text/x-python",
   "name": "python",
   "nbconvert_exporter": "python",
   "pygments_lexer": "ipython3",
   "version": "3.9.12"
  }
 },
 "nbformat": 4,
 "nbformat_minor": 5
}
